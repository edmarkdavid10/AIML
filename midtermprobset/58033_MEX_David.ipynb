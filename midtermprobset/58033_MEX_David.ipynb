{
  "nbformat": 4,
  "nbformat_minor": 0,
  "metadata": {
    "colab": {
      "name": "58033_MEX_David",
      "provenance": [],
      "collapsed_sections": [],
      "include_colab_link": true
    },
    "kernelspec": {
      "name": "python3",
      "display_name": "Python 3"
    },
    "language_info": {
      "name": "python"
    }
  },
  "cells": [
    {
      "cell_type": "markdown",
      "metadata": {
        "id": "view-in-github",
        "colab_type": "text"
      },
      "source": [
        "<a href=\"https://colab.research.google.com/github/edmarkdavid10/AIML/blob/main/midtermprobset/58033_MEX_David.ipynb\" target=\"_parent\"><img src=\"https://colab.research.google.com/assets/colab-badge.svg\" alt=\"Open In Colab\"/></a>"
      ]
    },
    {
      "cell_type": "markdown",
      "metadata": {
        "id": "-QGJgX4mNqH1"
      },
      "source": [
        "#**Laptop Price Prediction**"
      ]
    },
    {
      "cell_type": "markdown",
      "metadata": {
        "id": "O1FSUheY3h8y"
      },
      "source": [
        "#**Problem no.1**"
      ]
    },
    {
      "cell_type": "markdown",
      "metadata": {
        "id": "p3j8fuGu4YHb"
      },
      "source": [
        "**Purpose of the dataset**\n",
        "\n",
        "The dataset contains a collection of prices of laptops with different brands or manufactured by various companies including each of their specifications. This dataset provides information specifically the manufacturer or the company, type of laptop, screen size, CPU, RAM, Memory, GPU, operating system, weight, and the prices of laptops in euro and these are also considered as the characteristics of each laptops in the dataset. It aids and brings proper understanding upon the interested consumers in buying laptops according to their needs or what specification they will get depending to their price. \n",
        "\n",
        "\\\\\n",
        "\n",
        "**Needs statement**\n",
        "\n",
        "In the field of business, E-commerce market has gradually gained popularity on most of the countries especially amidst pandemic. However, since every marketplaces online always sells a large number of various products, including laptops, product pricing gets harder especially it can get influenced by brands and specifications. Therefore, the dataset can be used with a particular algorithm under machine learning which will bring assistance in predicting laptop prices especially new or newly manufactured and deployed ones. \n",
        "\n",
        "\\\\\n",
        "\n",
        "**Significance of the dataset**\n",
        "\n",
        "The primary beneficiary of the dataset are the companies that manufacture and deploy laptops to a particular marketplace in terms of product pricing of laptops based on brand and specifications. In addition, it brings advantage in terms of sales, return of investment, or other sales process of laptop manufacturing companies over competitors with the application of prediction of product sales.\n",
        "\n",
        "\\\\\n",
        "\n",
        "[1] M. Varli, “Laptop Price,” Kaggle, 2020. https://www.kaggle.com/muhammetvarl/laptop-price (accessed Nov. 16, 2021)."
      ]
    },
    {
      "cell_type": "code",
      "metadata": {
        "id": "cbH-Hn-PquCH"
      },
      "source": [
        "import numpy as np\n",
        "import pandas as pd\n",
        "import matplotlib.pyplot as plt\n",
        "import seaborn as sns\n",
        "from scipy import stats\n",
        "import regex as re"
      ],
      "execution_count": null,
      "outputs": []
    },
    {
      "cell_type": "markdown",
      "metadata": {
        "id": "AIGUe_aMC1Uz"
      },
      "source": [
        "###**Loading the raw data**"
      ]
    },
    {
      "cell_type": "code",
      "metadata": {
        "colab": {
          "base_uri": "https://localhost:8080/",
          "height": 204
        },
        "id": "MgN7bR4sCi8r",
        "outputId": "a7fb1aad-50e4-408a-fded-a53d09d1113d"
      },
      "source": [
        "lp_df = pd.read_csv(\"laptop_price.csv\", encoding='ISO-8859-1')\n",
        "lp_df.head()"
      ],
      "execution_count": null,
      "outputs": [
        {
          "output_type": "execute_result",
          "data": {
            "text/html": [
              "<div>\n",
              "<style scoped>\n",
              "    .dataframe tbody tr th:only-of-type {\n",
              "        vertical-align: middle;\n",
              "    }\n",
              "\n",
              "    .dataframe tbody tr th {\n",
              "        vertical-align: top;\n",
              "    }\n",
              "\n",
              "    .dataframe thead th {\n",
              "        text-align: right;\n",
              "    }\n",
              "</style>\n",
              "<table border=\"1\" class=\"dataframe\">\n",
              "  <thead>\n",
              "    <tr style=\"text-align: right;\">\n",
              "      <th></th>\n",
              "      <th>laptop_ID</th>\n",
              "      <th>Company</th>\n",
              "      <th>Product</th>\n",
              "      <th>TypeName</th>\n",
              "      <th>Inches</th>\n",
              "      <th>ScreenResolution</th>\n",
              "      <th>Cpu</th>\n",
              "      <th>Ram</th>\n",
              "      <th>Memory</th>\n",
              "      <th>Gpu</th>\n",
              "      <th>OpSys</th>\n",
              "      <th>Weight</th>\n",
              "      <th>Price_euros</th>\n",
              "    </tr>\n",
              "  </thead>\n",
              "  <tbody>\n",
              "    <tr>\n",
              "      <th>0</th>\n",
              "      <td>1</td>\n",
              "      <td>Apple</td>\n",
              "      <td>MacBook Pro</td>\n",
              "      <td>Ultrabook</td>\n",
              "      <td>13.3</td>\n",
              "      <td>IPS Panel Retina Display 2560x1600</td>\n",
              "      <td>Intel Core i5 2.3GHz</td>\n",
              "      <td>8GB</td>\n",
              "      <td>128GB SSD</td>\n",
              "      <td>Intel Iris Plus Graphics 640</td>\n",
              "      <td>macOS</td>\n",
              "      <td>1.37kg</td>\n",
              "      <td>1339.69</td>\n",
              "    </tr>\n",
              "    <tr>\n",
              "      <th>1</th>\n",
              "      <td>2</td>\n",
              "      <td>Apple</td>\n",
              "      <td>Macbook Air</td>\n",
              "      <td>Ultrabook</td>\n",
              "      <td>13.3</td>\n",
              "      <td>1440x900</td>\n",
              "      <td>Intel Core i5 1.8GHz</td>\n",
              "      <td>8GB</td>\n",
              "      <td>128GB Flash Storage</td>\n",
              "      <td>Intel HD Graphics 6000</td>\n",
              "      <td>macOS</td>\n",
              "      <td>1.34kg</td>\n",
              "      <td>898.94</td>\n",
              "    </tr>\n",
              "    <tr>\n",
              "      <th>2</th>\n",
              "      <td>3</td>\n",
              "      <td>HP</td>\n",
              "      <td>250 G6</td>\n",
              "      <td>Notebook</td>\n",
              "      <td>15.6</td>\n",
              "      <td>Full HD 1920x1080</td>\n",
              "      <td>Intel Core i5 7200U 2.5GHz</td>\n",
              "      <td>8GB</td>\n",
              "      <td>256GB SSD</td>\n",
              "      <td>Intel HD Graphics 620</td>\n",
              "      <td>No OS</td>\n",
              "      <td>1.86kg</td>\n",
              "      <td>575.00</td>\n",
              "    </tr>\n",
              "    <tr>\n",
              "      <th>3</th>\n",
              "      <td>4</td>\n",
              "      <td>Apple</td>\n",
              "      <td>MacBook Pro</td>\n",
              "      <td>Ultrabook</td>\n",
              "      <td>15.4</td>\n",
              "      <td>IPS Panel Retina Display 2880x1800</td>\n",
              "      <td>Intel Core i7 2.7GHz</td>\n",
              "      <td>16GB</td>\n",
              "      <td>512GB SSD</td>\n",
              "      <td>AMD Radeon Pro 455</td>\n",
              "      <td>macOS</td>\n",
              "      <td>1.83kg</td>\n",
              "      <td>2537.45</td>\n",
              "    </tr>\n",
              "    <tr>\n",
              "      <th>4</th>\n",
              "      <td>5</td>\n",
              "      <td>Apple</td>\n",
              "      <td>MacBook Pro</td>\n",
              "      <td>Ultrabook</td>\n",
              "      <td>13.3</td>\n",
              "      <td>IPS Panel Retina Display 2560x1600</td>\n",
              "      <td>Intel Core i5 3.1GHz</td>\n",
              "      <td>8GB</td>\n",
              "      <td>256GB SSD</td>\n",
              "      <td>Intel Iris Plus Graphics 650</td>\n",
              "      <td>macOS</td>\n",
              "      <td>1.37kg</td>\n",
              "      <td>1803.60</td>\n",
              "    </tr>\n",
              "  </tbody>\n",
              "</table>\n",
              "</div>"
            ],
            "text/plain": [
              "   laptop_ID Company      Product  ...  OpSys  Weight Price_euros\n",
              "0          1   Apple  MacBook Pro  ...  macOS  1.37kg     1339.69\n",
              "1          2   Apple  Macbook Air  ...  macOS  1.34kg      898.94\n",
              "2          3      HP       250 G6  ...  No OS  1.86kg      575.00\n",
              "3          4   Apple  MacBook Pro  ...  macOS  1.83kg     2537.45\n",
              "4          5   Apple  MacBook Pro  ...  macOS  1.37kg     1803.60\n",
              "\n",
              "[5 rows x 13 columns]"
            ]
          },
          "metadata": {},
          "execution_count": 386
        }
      ]
    },
    {
      "cell_type": "code",
      "metadata": {
        "colab": {
          "base_uri": "https://localhost:8080/"
        },
        "id": "wL_JzNnlKHuh",
        "outputId": "b4805d99-2a1f-4681-8462-fe164293917b"
      },
      "source": [
        "#number of dimension\n",
        "print(f\"The dataset has {lp_df.ndim} dimensions\")\n",
        "#number of rows and cols\n",
        "print(f\"The shape of the data set is {lp_df.shape}\")"
      ],
      "execution_count": null,
      "outputs": [
        {
          "output_type": "stream",
          "name": "stdout",
          "text": [
            "The dataset has 2 dimensions\n",
            "The shape of the data set is (1303, 13)\n"
          ]
        }
      ]
    },
    {
      "cell_type": "code",
      "metadata": {
        "colab": {
          "base_uri": "https://localhost:8080/"
        },
        "id": "I9txfEenKZIy",
        "outputId": "d97885a3-2fd0-44e5-b295-8841c9da2012"
      },
      "source": [
        "#features of the dataset\n",
        "lp_df.columns"
      ],
      "execution_count": null,
      "outputs": [
        {
          "output_type": "execute_result",
          "data": {
            "text/plain": [
              "Index(['laptop_ID', 'Company', 'Product', 'TypeName', 'Inches',\n",
              "       'ScreenResolution', 'Cpu', 'Ram', 'Memory', 'Gpu', 'OpSys', 'Weight',\n",
              "       'Price_euros'],\n",
              "      dtype='object')"
            ]
          },
          "metadata": {},
          "execution_count": 388
        }
      ]
    },
    {
      "cell_type": "markdown",
      "metadata": {
        "id": "WCSwCWnTC0Ho"
      },
      "source": [
        "###**Preprocessing**"
      ]
    },
    {
      "cell_type": "code",
      "metadata": {
        "colab": {
          "base_uri": "https://localhost:8080/"
        },
        "id": "gh3XrxgyGa1J",
        "outputId": "c36ccd3e-836e-4527-f98e-c664cdfd2388"
      },
      "source": [
        "lp_df.info()"
      ],
      "execution_count": null,
      "outputs": [
        {
          "output_type": "stream",
          "name": "stdout",
          "text": [
            "<class 'pandas.core.frame.DataFrame'>\n",
            "RangeIndex: 1303 entries, 0 to 1302\n",
            "Data columns (total 13 columns):\n",
            " #   Column            Non-Null Count  Dtype  \n",
            "---  ------            --------------  -----  \n",
            " 0   laptop_ID         1303 non-null   int64  \n",
            " 1   Company           1303 non-null   object \n",
            " 2   Product           1303 non-null   object \n",
            " 3   TypeName          1303 non-null   object \n",
            " 4   Inches            1303 non-null   float64\n",
            " 5   ScreenResolution  1303 non-null   object \n",
            " 6   Cpu               1303 non-null   object \n",
            " 7   Ram               1303 non-null   object \n",
            " 8   Memory            1303 non-null   object \n",
            " 9   Gpu               1303 non-null   object \n",
            " 10  OpSys             1303 non-null   object \n",
            " 11  Weight            1303 non-null   object \n",
            " 12  Price_euros       1303 non-null   float64\n",
            "dtypes: float64(2), int64(1), object(10)\n",
            "memory usage: 132.5+ KB\n"
          ]
        }
      ]
    },
    {
      "cell_type": "code",
      "metadata": {
        "colab": {
          "base_uri": "https://localhost:8080/",
          "height": 390
        },
        "id": "XN24W0UBFcwM",
        "outputId": "f63e1e1e-f5d6-4650-ae17-36a67fc1faa2"
      },
      "source": [
        "lp_df.describe(include = 'all')"
      ],
      "execution_count": null,
      "outputs": [
        {
          "output_type": "execute_result",
          "data": {
            "text/html": [
              "<div>\n",
              "<style scoped>\n",
              "    .dataframe tbody tr th:only-of-type {\n",
              "        vertical-align: middle;\n",
              "    }\n",
              "\n",
              "    .dataframe tbody tr th {\n",
              "        vertical-align: top;\n",
              "    }\n",
              "\n",
              "    .dataframe thead th {\n",
              "        text-align: right;\n",
              "    }\n",
              "</style>\n",
              "<table border=\"1\" class=\"dataframe\">\n",
              "  <thead>\n",
              "    <tr style=\"text-align: right;\">\n",
              "      <th></th>\n",
              "      <th>laptop_ID</th>\n",
              "      <th>Company</th>\n",
              "      <th>Product</th>\n",
              "      <th>TypeName</th>\n",
              "      <th>Inches</th>\n",
              "      <th>ScreenResolution</th>\n",
              "      <th>Cpu</th>\n",
              "      <th>Ram</th>\n",
              "      <th>Memory</th>\n",
              "      <th>Gpu</th>\n",
              "      <th>OpSys</th>\n",
              "      <th>Weight</th>\n",
              "      <th>Price_euros</th>\n",
              "    </tr>\n",
              "  </thead>\n",
              "  <tbody>\n",
              "    <tr>\n",
              "      <th>count</th>\n",
              "      <td>1303.000000</td>\n",
              "      <td>1303</td>\n",
              "      <td>1303</td>\n",
              "      <td>1303</td>\n",
              "      <td>1303.000000</td>\n",
              "      <td>1303</td>\n",
              "      <td>1303</td>\n",
              "      <td>1303</td>\n",
              "      <td>1303</td>\n",
              "      <td>1303</td>\n",
              "      <td>1303</td>\n",
              "      <td>1303</td>\n",
              "      <td>1303.000000</td>\n",
              "    </tr>\n",
              "    <tr>\n",
              "      <th>unique</th>\n",
              "      <td>NaN</td>\n",
              "      <td>19</td>\n",
              "      <td>618</td>\n",
              "      <td>6</td>\n",
              "      <td>NaN</td>\n",
              "      <td>40</td>\n",
              "      <td>118</td>\n",
              "      <td>9</td>\n",
              "      <td>39</td>\n",
              "      <td>110</td>\n",
              "      <td>9</td>\n",
              "      <td>179</td>\n",
              "      <td>NaN</td>\n",
              "    </tr>\n",
              "    <tr>\n",
              "      <th>top</th>\n",
              "      <td>NaN</td>\n",
              "      <td>Dell</td>\n",
              "      <td>XPS 13</td>\n",
              "      <td>Notebook</td>\n",
              "      <td>NaN</td>\n",
              "      <td>Full HD 1920x1080</td>\n",
              "      <td>Intel Core i5 7200U 2.5GHz</td>\n",
              "      <td>8GB</td>\n",
              "      <td>256GB SSD</td>\n",
              "      <td>Intel HD Graphics 620</td>\n",
              "      <td>Windows 10</td>\n",
              "      <td>2.2kg</td>\n",
              "      <td>NaN</td>\n",
              "    </tr>\n",
              "    <tr>\n",
              "      <th>freq</th>\n",
              "      <td>NaN</td>\n",
              "      <td>297</td>\n",
              "      <td>30</td>\n",
              "      <td>727</td>\n",
              "      <td>NaN</td>\n",
              "      <td>507</td>\n",
              "      <td>190</td>\n",
              "      <td>619</td>\n",
              "      <td>412</td>\n",
              "      <td>281</td>\n",
              "      <td>1072</td>\n",
              "      <td>121</td>\n",
              "      <td>NaN</td>\n",
              "    </tr>\n",
              "    <tr>\n",
              "      <th>mean</th>\n",
              "      <td>660.155794</td>\n",
              "      <td>NaN</td>\n",
              "      <td>NaN</td>\n",
              "      <td>NaN</td>\n",
              "      <td>15.017191</td>\n",
              "      <td>NaN</td>\n",
              "      <td>NaN</td>\n",
              "      <td>NaN</td>\n",
              "      <td>NaN</td>\n",
              "      <td>NaN</td>\n",
              "      <td>NaN</td>\n",
              "      <td>NaN</td>\n",
              "      <td>1123.686992</td>\n",
              "    </tr>\n",
              "    <tr>\n",
              "      <th>std</th>\n",
              "      <td>381.172104</td>\n",
              "      <td>NaN</td>\n",
              "      <td>NaN</td>\n",
              "      <td>NaN</td>\n",
              "      <td>1.426304</td>\n",
              "      <td>NaN</td>\n",
              "      <td>NaN</td>\n",
              "      <td>NaN</td>\n",
              "      <td>NaN</td>\n",
              "      <td>NaN</td>\n",
              "      <td>NaN</td>\n",
              "      <td>NaN</td>\n",
              "      <td>699.009043</td>\n",
              "    </tr>\n",
              "    <tr>\n",
              "      <th>min</th>\n",
              "      <td>1.000000</td>\n",
              "      <td>NaN</td>\n",
              "      <td>NaN</td>\n",
              "      <td>NaN</td>\n",
              "      <td>10.100000</td>\n",
              "      <td>NaN</td>\n",
              "      <td>NaN</td>\n",
              "      <td>NaN</td>\n",
              "      <td>NaN</td>\n",
              "      <td>NaN</td>\n",
              "      <td>NaN</td>\n",
              "      <td>NaN</td>\n",
              "      <td>174.000000</td>\n",
              "    </tr>\n",
              "    <tr>\n",
              "      <th>25%</th>\n",
              "      <td>331.500000</td>\n",
              "      <td>NaN</td>\n",
              "      <td>NaN</td>\n",
              "      <td>NaN</td>\n",
              "      <td>14.000000</td>\n",
              "      <td>NaN</td>\n",
              "      <td>NaN</td>\n",
              "      <td>NaN</td>\n",
              "      <td>NaN</td>\n",
              "      <td>NaN</td>\n",
              "      <td>NaN</td>\n",
              "      <td>NaN</td>\n",
              "      <td>599.000000</td>\n",
              "    </tr>\n",
              "    <tr>\n",
              "      <th>50%</th>\n",
              "      <td>659.000000</td>\n",
              "      <td>NaN</td>\n",
              "      <td>NaN</td>\n",
              "      <td>NaN</td>\n",
              "      <td>15.600000</td>\n",
              "      <td>NaN</td>\n",
              "      <td>NaN</td>\n",
              "      <td>NaN</td>\n",
              "      <td>NaN</td>\n",
              "      <td>NaN</td>\n",
              "      <td>NaN</td>\n",
              "      <td>NaN</td>\n",
              "      <td>977.000000</td>\n",
              "    </tr>\n",
              "    <tr>\n",
              "      <th>75%</th>\n",
              "      <td>990.500000</td>\n",
              "      <td>NaN</td>\n",
              "      <td>NaN</td>\n",
              "      <td>NaN</td>\n",
              "      <td>15.600000</td>\n",
              "      <td>NaN</td>\n",
              "      <td>NaN</td>\n",
              "      <td>NaN</td>\n",
              "      <td>NaN</td>\n",
              "      <td>NaN</td>\n",
              "      <td>NaN</td>\n",
              "      <td>NaN</td>\n",
              "      <td>1487.880000</td>\n",
              "    </tr>\n",
              "    <tr>\n",
              "      <th>max</th>\n",
              "      <td>1320.000000</td>\n",
              "      <td>NaN</td>\n",
              "      <td>NaN</td>\n",
              "      <td>NaN</td>\n",
              "      <td>18.400000</td>\n",
              "      <td>NaN</td>\n",
              "      <td>NaN</td>\n",
              "      <td>NaN</td>\n",
              "      <td>NaN</td>\n",
              "      <td>NaN</td>\n",
              "      <td>NaN</td>\n",
              "      <td>NaN</td>\n",
              "      <td>6099.000000</td>\n",
              "    </tr>\n",
              "  </tbody>\n",
              "</table>\n",
              "</div>"
            ],
            "text/plain": [
              "          laptop_ID Company Product  ...       OpSys  Weight  Price_euros\n",
              "count   1303.000000    1303    1303  ...        1303    1303  1303.000000\n",
              "unique          NaN      19     618  ...           9     179          NaN\n",
              "top             NaN    Dell  XPS 13  ...  Windows 10   2.2kg          NaN\n",
              "freq            NaN     297      30  ...        1072     121          NaN\n",
              "mean     660.155794     NaN     NaN  ...         NaN     NaN  1123.686992\n",
              "std      381.172104     NaN     NaN  ...         NaN     NaN   699.009043\n",
              "min        1.000000     NaN     NaN  ...         NaN     NaN   174.000000\n",
              "25%      331.500000     NaN     NaN  ...         NaN     NaN   599.000000\n",
              "50%      659.000000     NaN     NaN  ...         NaN     NaN   977.000000\n",
              "75%      990.500000     NaN     NaN  ...         NaN     NaN  1487.880000\n",
              "max     1320.000000     NaN     NaN  ...         NaN     NaN  6099.000000\n",
              "\n",
              "[11 rows x 13 columns]"
            ]
          },
          "metadata": {},
          "execution_count": 390
        }
      ]
    },
    {
      "cell_type": "markdown",
      "metadata": {
        "id": "1hhVITkk0sCV"
      },
      "source": [
        "**Data Cleaning**"
      ]
    },
    {
      "cell_type": "code",
      "metadata": {
        "colab": {
          "base_uri": "https://localhost:8080/"
        },
        "id": "q3MIEWad0vuD",
        "outputId": "bd2e3c57-3c2d-4f3e-c9fd-42c79b759cc8"
      },
      "source": [
        "lp_df = lp_df.rename(columns = str.lower)\n",
        "lp_df.columns"
      ],
      "execution_count": null,
      "outputs": [
        {
          "output_type": "execute_result",
          "data": {
            "text/plain": [
              "Index(['laptop_id', 'company', 'product', 'typename', 'inches',\n",
              "       'screenresolution', 'cpu', 'ram', 'memory', 'gpu', 'opsys', 'weight',\n",
              "       'price_euros'],\n",
              "      dtype='object')"
            ]
          },
          "metadata": {},
          "execution_count": 391
        }
      ]
    },
    {
      "cell_type": "code",
      "metadata": {
        "id": "drWPsWWF1MJt"
      },
      "source": [
        "lp_df = lp_df.rename(columns={'price_euros':'price'})"
      ],
      "execution_count": null,
      "outputs": []
    },
    {
      "cell_type": "markdown",
      "metadata": {
        "id": "2KXhiUto1VZO"
      },
      "source": [
        "**Checking for duplicates**"
      ]
    },
    {
      "cell_type": "code",
      "metadata": {
        "colab": {
          "base_uri": "https://localhost:8080/",
          "height": 49
        },
        "id": "q3GFzHCg1oD9",
        "outputId": "a78bc640-868d-4045-bfda-7caa562e9270"
      },
      "source": [
        "lp_df[lp_df.duplicated()]"
      ],
      "execution_count": null,
      "outputs": [
        {
          "output_type": "execute_result",
          "data": {
            "text/html": [
              "<div>\n",
              "<style scoped>\n",
              "    .dataframe tbody tr th:only-of-type {\n",
              "        vertical-align: middle;\n",
              "    }\n",
              "\n",
              "    .dataframe tbody tr th {\n",
              "        vertical-align: top;\n",
              "    }\n",
              "\n",
              "    .dataframe thead th {\n",
              "        text-align: right;\n",
              "    }\n",
              "</style>\n",
              "<table border=\"1\" class=\"dataframe\">\n",
              "  <thead>\n",
              "    <tr style=\"text-align: right;\">\n",
              "      <th></th>\n",
              "      <th>laptop_id</th>\n",
              "      <th>company</th>\n",
              "      <th>product</th>\n",
              "      <th>typename</th>\n",
              "      <th>inches</th>\n",
              "      <th>screenresolution</th>\n",
              "      <th>cpu</th>\n",
              "      <th>ram</th>\n",
              "      <th>memory</th>\n",
              "      <th>gpu</th>\n",
              "      <th>opsys</th>\n",
              "      <th>weight</th>\n",
              "      <th>price</th>\n",
              "    </tr>\n",
              "  </thead>\n",
              "  <tbody>\n",
              "  </tbody>\n",
              "</table>\n",
              "</div>"
            ],
            "text/plain": [
              "Empty DataFrame\n",
              "Columns: [laptop_id, company, product, typename, inches, screenresolution, cpu, ram, memory, gpu, opsys, weight, price]\n",
              "Index: []"
            ]
          },
          "metadata": {},
          "execution_count": 393
        }
      ]
    },
    {
      "cell_type": "markdown",
      "metadata": {
        "id": "vncAHo6n3ar5"
      },
      "source": [
        "**Checking for Missing Values**"
      ]
    },
    {
      "cell_type": "code",
      "metadata": {
        "colab": {
          "base_uri": "https://localhost:8080/"
        },
        "id": "Rk16566N3cGV",
        "outputId": "fd37a273-80e1-4019-eb88-cd91be450b2c"
      },
      "source": [
        "lp_df.isnull().sum()"
      ],
      "execution_count": null,
      "outputs": [
        {
          "output_type": "execute_result",
          "data": {
            "text/plain": [
              "laptop_id           0\n",
              "company             0\n",
              "product             0\n",
              "typename            0\n",
              "inches              0\n",
              "screenresolution    0\n",
              "cpu                 0\n",
              "ram                 0\n",
              "memory              0\n",
              "gpu                 0\n",
              "opsys               0\n",
              "weight              0\n",
              "price               0\n",
              "dtype: int64"
            ]
          },
          "metadata": {},
          "execution_count": 394
        }
      ]
    },
    {
      "cell_type": "markdown",
      "metadata": {
        "id": "n1L2unUhH3Ji"
      },
      "source": [
        "**Determining Features of Interest**"
      ]
    },
    {
      "cell_type": "code",
      "metadata": {
        "colab": {
          "base_uri": "https://localhost:8080/",
          "height": 390
        },
        "id": "DbP7ANKuFwIm",
        "outputId": "9ca9215e-e0d6-4245-f3a0-79c29941628a"
      },
      "source": [
        "lp_df = lp_df.drop([\"laptop_id\"], axis=1)\n",
        "lp_df.describe(include = 'all')"
      ],
      "execution_count": null,
      "outputs": [
        {
          "output_type": "execute_result",
          "data": {
            "text/html": [
              "<div>\n",
              "<style scoped>\n",
              "    .dataframe tbody tr th:only-of-type {\n",
              "        vertical-align: middle;\n",
              "    }\n",
              "\n",
              "    .dataframe tbody tr th {\n",
              "        vertical-align: top;\n",
              "    }\n",
              "\n",
              "    .dataframe thead th {\n",
              "        text-align: right;\n",
              "    }\n",
              "</style>\n",
              "<table border=\"1\" class=\"dataframe\">\n",
              "  <thead>\n",
              "    <tr style=\"text-align: right;\">\n",
              "      <th></th>\n",
              "      <th>company</th>\n",
              "      <th>product</th>\n",
              "      <th>typename</th>\n",
              "      <th>inches</th>\n",
              "      <th>screenresolution</th>\n",
              "      <th>cpu</th>\n",
              "      <th>ram</th>\n",
              "      <th>memory</th>\n",
              "      <th>gpu</th>\n",
              "      <th>opsys</th>\n",
              "      <th>weight</th>\n",
              "      <th>price</th>\n",
              "    </tr>\n",
              "  </thead>\n",
              "  <tbody>\n",
              "    <tr>\n",
              "      <th>count</th>\n",
              "      <td>1303</td>\n",
              "      <td>1303</td>\n",
              "      <td>1303</td>\n",
              "      <td>1303.000000</td>\n",
              "      <td>1303</td>\n",
              "      <td>1303</td>\n",
              "      <td>1303</td>\n",
              "      <td>1303</td>\n",
              "      <td>1303</td>\n",
              "      <td>1303</td>\n",
              "      <td>1303</td>\n",
              "      <td>1303.000000</td>\n",
              "    </tr>\n",
              "    <tr>\n",
              "      <th>unique</th>\n",
              "      <td>19</td>\n",
              "      <td>618</td>\n",
              "      <td>6</td>\n",
              "      <td>NaN</td>\n",
              "      <td>40</td>\n",
              "      <td>118</td>\n",
              "      <td>9</td>\n",
              "      <td>39</td>\n",
              "      <td>110</td>\n",
              "      <td>9</td>\n",
              "      <td>179</td>\n",
              "      <td>NaN</td>\n",
              "    </tr>\n",
              "    <tr>\n",
              "      <th>top</th>\n",
              "      <td>Dell</td>\n",
              "      <td>XPS 13</td>\n",
              "      <td>Notebook</td>\n",
              "      <td>NaN</td>\n",
              "      <td>Full HD 1920x1080</td>\n",
              "      <td>Intel Core i5 7200U 2.5GHz</td>\n",
              "      <td>8GB</td>\n",
              "      <td>256GB SSD</td>\n",
              "      <td>Intel HD Graphics 620</td>\n",
              "      <td>Windows 10</td>\n",
              "      <td>2.2kg</td>\n",
              "      <td>NaN</td>\n",
              "    </tr>\n",
              "    <tr>\n",
              "      <th>freq</th>\n",
              "      <td>297</td>\n",
              "      <td>30</td>\n",
              "      <td>727</td>\n",
              "      <td>NaN</td>\n",
              "      <td>507</td>\n",
              "      <td>190</td>\n",
              "      <td>619</td>\n",
              "      <td>412</td>\n",
              "      <td>281</td>\n",
              "      <td>1072</td>\n",
              "      <td>121</td>\n",
              "      <td>NaN</td>\n",
              "    </tr>\n",
              "    <tr>\n",
              "      <th>mean</th>\n",
              "      <td>NaN</td>\n",
              "      <td>NaN</td>\n",
              "      <td>NaN</td>\n",
              "      <td>15.017191</td>\n",
              "      <td>NaN</td>\n",
              "      <td>NaN</td>\n",
              "      <td>NaN</td>\n",
              "      <td>NaN</td>\n",
              "      <td>NaN</td>\n",
              "      <td>NaN</td>\n",
              "      <td>NaN</td>\n",
              "      <td>1123.686992</td>\n",
              "    </tr>\n",
              "    <tr>\n",
              "      <th>std</th>\n",
              "      <td>NaN</td>\n",
              "      <td>NaN</td>\n",
              "      <td>NaN</td>\n",
              "      <td>1.426304</td>\n",
              "      <td>NaN</td>\n",
              "      <td>NaN</td>\n",
              "      <td>NaN</td>\n",
              "      <td>NaN</td>\n",
              "      <td>NaN</td>\n",
              "      <td>NaN</td>\n",
              "      <td>NaN</td>\n",
              "      <td>699.009043</td>\n",
              "    </tr>\n",
              "    <tr>\n",
              "      <th>min</th>\n",
              "      <td>NaN</td>\n",
              "      <td>NaN</td>\n",
              "      <td>NaN</td>\n",
              "      <td>10.100000</td>\n",
              "      <td>NaN</td>\n",
              "      <td>NaN</td>\n",
              "      <td>NaN</td>\n",
              "      <td>NaN</td>\n",
              "      <td>NaN</td>\n",
              "      <td>NaN</td>\n",
              "      <td>NaN</td>\n",
              "      <td>174.000000</td>\n",
              "    </tr>\n",
              "    <tr>\n",
              "      <th>25%</th>\n",
              "      <td>NaN</td>\n",
              "      <td>NaN</td>\n",
              "      <td>NaN</td>\n",
              "      <td>14.000000</td>\n",
              "      <td>NaN</td>\n",
              "      <td>NaN</td>\n",
              "      <td>NaN</td>\n",
              "      <td>NaN</td>\n",
              "      <td>NaN</td>\n",
              "      <td>NaN</td>\n",
              "      <td>NaN</td>\n",
              "      <td>599.000000</td>\n",
              "    </tr>\n",
              "    <tr>\n",
              "      <th>50%</th>\n",
              "      <td>NaN</td>\n",
              "      <td>NaN</td>\n",
              "      <td>NaN</td>\n",
              "      <td>15.600000</td>\n",
              "      <td>NaN</td>\n",
              "      <td>NaN</td>\n",
              "      <td>NaN</td>\n",
              "      <td>NaN</td>\n",
              "      <td>NaN</td>\n",
              "      <td>NaN</td>\n",
              "      <td>NaN</td>\n",
              "      <td>977.000000</td>\n",
              "    </tr>\n",
              "    <tr>\n",
              "      <th>75%</th>\n",
              "      <td>NaN</td>\n",
              "      <td>NaN</td>\n",
              "      <td>NaN</td>\n",
              "      <td>15.600000</td>\n",
              "      <td>NaN</td>\n",
              "      <td>NaN</td>\n",
              "      <td>NaN</td>\n",
              "      <td>NaN</td>\n",
              "      <td>NaN</td>\n",
              "      <td>NaN</td>\n",
              "      <td>NaN</td>\n",
              "      <td>1487.880000</td>\n",
              "    </tr>\n",
              "    <tr>\n",
              "      <th>max</th>\n",
              "      <td>NaN</td>\n",
              "      <td>NaN</td>\n",
              "      <td>NaN</td>\n",
              "      <td>18.400000</td>\n",
              "      <td>NaN</td>\n",
              "      <td>NaN</td>\n",
              "      <td>NaN</td>\n",
              "      <td>NaN</td>\n",
              "      <td>NaN</td>\n",
              "      <td>NaN</td>\n",
              "      <td>NaN</td>\n",
              "      <td>6099.000000</td>\n",
              "    </tr>\n",
              "  </tbody>\n",
              "</table>\n",
              "</div>"
            ],
            "text/plain": [
              "       company product  typename  ...       opsys weight        price\n",
              "count     1303    1303      1303  ...        1303   1303  1303.000000\n",
              "unique      19     618         6  ...           9    179          NaN\n",
              "top       Dell  XPS 13  Notebook  ...  Windows 10  2.2kg          NaN\n",
              "freq       297      30       727  ...        1072    121          NaN\n",
              "mean       NaN     NaN       NaN  ...         NaN    NaN  1123.686992\n",
              "std        NaN     NaN       NaN  ...         NaN    NaN   699.009043\n",
              "min        NaN     NaN       NaN  ...         NaN    NaN   174.000000\n",
              "25%        NaN     NaN       NaN  ...         NaN    NaN   599.000000\n",
              "50%        NaN     NaN       NaN  ...         NaN    NaN   977.000000\n",
              "75%        NaN     NaN       NaN  ...         NaN    NaN  1487.880000\n",
              "max        NaN     NaN       NaN  ...         NaN    NaN  6099.000000\n",
              "\n",
              "[11 rows x 12 columns]"
            ]
          },
          "metadata": {},
          "execution_count": 395
        }
      ]
    },
    {
      "cell_type": "code",
      "metadata": {
        "id": "bK_r-eJI39sd"
      },
      "source": [
        "lp_df['price'] = lp_df['price']*57.14\n",
        "lp_df['price'] = lp_df['price'].round(2)"
      ],
      "execution_count": null,
      "outputs": []
    },
    {
      "cell_type": "code",
      "metadata": {
        "colab": {
          "base_uri": "https://localhost:8080/",
          "height": 204
        },
        "id": "iNUP-qcn4-LX",
        "outputId": "9ede4079-d9ac-4ffe-b260-8bd1a258be78"
      },
      "source": [
        "lp_df.head()"
      ],
      "execution_count": null,
      "outputs": [
        {
          "output_type": "execute_result",
          "data": {
            "text/html": [
              "<div>\n",
              "<style scoped>\n",
              "    .dataframe tbody tr th:only-of-type {\n",
              "        vertical-align: middle;\n",
              "    }\n",
              "\n",
              "    .dataframe tbody tr th {\n",
              "        vertical-align: top;\n",
              "    }\n",
              "\n",
              "    .dataframe thead th {\n",
              "        text-align: right;\n",
              "    }\n",
              "</style>\n",
              "<table border=\"1\" class=\"dataframe\">\n",
              "  <thead>\n",
              "    <tr style=\"text-align: right;\">\n",
              "      <th></th>\n",
              "      <th>company</th>\n",
              "      <th>product</th>\n",
              "      <th>typename</th>\n",
              "      <th>inches</th>\n",
              "      <th>screenresolution</th>\n",
              "      <th>cpu</th>\n",
              "      <th>ram</th>\n",
              "      <th>memory</th>\n",
              "      <th>gpu</th>\n",
              "      <th>opsys</th>\n",
              "      <th>weight</th>\n",
              "      <th>price</th>\n",
              "    </tr>\n",
              "  </thead>\n",
              "  <tbody>\n",
              "    <tr>\n",
              "      <th>0</th>\n",
              "      <td>Apple</td>\n",
              "      <td>MacBook Pro</td>\n",
              "      <td>Ultrabook</td>\n",
              "      <td>13.3</td>\n",
              "      <td>IPS Panel Retina Display 2560x1600</td>\n",
              "      <td>Intel Core i5 2.3GHz</td>\n",
              "      <td>8GB</td>\n",
              "      <td>128GB SSD</td>\n",
              "      <td>Intel Iris Plus Graphics 640</td>\n",
              "      <td>macOS</td>\n",
              "      <td>1.37kg</td>\n",
              "      <td>76549.89</td>\n",
              "    </tr>\n",
              "    <tr>\n",
              "      <th>1</th>\n",
              "      <td>Apple</td>\n",
              "      <td>Macbook Air</td>\n",
              "      <td>Ultrabook</td>\n",
              "      <td>13.3</td>\n",
              "      <td>1440x900</td>\n",
              "      <td>Intel Core i5 1.8GHz</td>\n",
              "      <td>8GB</td>\n",
              "      <td>128GB Flash Storage</td>\n",
              "      <td>Intel HD Graphics 6000</td>\n",
              "      <td>macOS</td>\n",
              "      <td>1.34kg</td>\n",
              "      <td>51365.43</td>\n",
              "    </tr>\n",
              "    <tr>\n",
              "      <th>2</th>\n",
              "      <td>HP</td>\n",
              "      <td>250 G6</td>\n",
              "      <td>Notebook</td>\n",
              "      <td>15.6</td>\n",
              "      <td>Full HD 1920x1080</td>\n",
              "      <td>Intel Core i5 7200U 2.5GHz</td>\n",
              "      <td>8GB</td>\n",
              "      <td>256GB SSD</td>\n",
              "      <td>Intel HD Graphics 620</td>\n",
              "      <td>No OS</td>\n",
              "      <td>1.86kg</td>\n",
              "      <td>32855.50</td>\n",
              "    </tr>\n",
              "    <tr>\n",
              "      <th>3</th>\n",
              "      <td>Apple</td>\n",
              "      <td>MacBook Pro</td>\n",
              "      <td>Ultrabook</td>\n",
              "      <td>15.4</td>\n",
              "      <td>IPS Panel Retina Display 2880x1800</td>\n",
              "      <td>Intel Core i7 2.7GHz</td>\n",
              "      <td>16GB</td>\n",
              "      <td>512GB SSD</td>\n",
              "      <td>AMD Radeon Pro 455</td>\n",
              "      <td>macOS</td>\n",
              "      <td>1.83kg</td>\n",
              "      <td>144989.89</td>\n",
              "    </tr>\n",
              "    <tr>\n",
              "      <th>4</th>\n",
              "      <td>Apple</td>\n",
              "      <td>MacBook Pro</td>\n",
              "      <td>Ultrabook</td>\n",
              "      <td>13.3</td>\n",
              "      <td>IPS Panel Retina Display 2560x1600</td>\n",
              "      <td>Intel Core i5 3.1GHz</td>\n",
              "      <td>8GB</td>\n",
              "      <td>256GB SSD</td>\n",
              "      <td>Intel Iris Plus Graphics 650</td>\n",
              "      <td>macOS</td>\n",
              "      <td>1.37kg</td>\n",
              "      <td>103057.70</td>\n",
              "    </tr>\n",
              "  </tbody>\n",
              "</table>\n",
              "</div>"
            ],
            "text/plain": [
              "  company      product   typename  ...  opsys  weight      price\n",
              "0   Apple  MacBook Pro  Ultrabook  ...  macOS  1.37kg   76549.89\n",
              "1   Apple  Macbook Air  Ultrabook  ...  macOS  1.34kg   51365.43\n",
              "2      HP       250 G6   Notebook  ...  No OS  1.86kg   32855.50\n",
              "3   Apple  MacBook Pro  Ultrabook  ...  macOS  1.83kg  144989.89\n",
              "4   Apple  MacBook Pro  Ultrabook  ...  macOS  1.37kg  103057.70\n",
              "\n",
              "[5 rows x 12 columns]"
            ]
          },
          "metadata": {},
          "execution_count": 397
        }
      ]
    },
    {
      "cell_type": "code",
      "metadata": {
        "id": "p6Zobr1OFBNM"
      },
      "source": [
        "cat_vars = ['company', 'typename', 'memory', 'ram', 'screenresolution', 'opsys']"
      ],
      "execution_count": null,
      "outputs": []
    },
    {
      "cell_type": "markdown",
      "metadata": {
        "id": "p6Qu42cNIIRX"
      },
      "source": [
        "###**Data Exploration and Visualization**"
      ]
    },
    {
      "cell_type": "code",
      "metadata": {
        "colab": {
          "base_uri": "https://localhost:8080/",
          "height": 299
        },
        "id": "m_PWx30oIRrz",
        "outputId": "93c2b603-3a52-4b56-bb9c-c6c96ae0cd8e"
      },
      "source": [
        "sns.histplot(lp_df['price'])"
      ],
      "execution_count": null,
      "outputs": [
        {
          "output_type": "execute_result",
          "data": {
            "text/plain": [
              "<matplotlib.axes._subplots.AxesSubplot at 0x7f2cd873ed90>"
            ]
          },
          "metadata": {},
          "execution_count": 399
        },
        {
          "output_type": "display_data",
          "data": {
            "image/png": "[encoded data removed]",
            "text/plain": [
              "<Figure size 432x288 with 1 Axes>"
            ]
          },
          "metadata": {
            "needs_background": "light"
          }
        }
      ]
    },
    {
      "cell_type": "code",
      "metadata": {
        "id": "yYBs3khJ4_tz"
      },
      "source": [
        "def plot_cat_var(lp_df, var):\n",
        "    lp_df = lp_df.copy()\n",
        "    print(f'Number of {var}: ',lp_df[var].nunique())\n",
        "    print(f'Laptop\\'s {var}: ', lp_df[var].unique())\n",
        "    plt.figure(figsize = (15, 7))\n",
        "    plt.title(f'Distribution of {var} by price')\n",
        "    sns.barplot(\n",
        "        x = var,\n",
        "        y = 'price',\n",
        "        data = lp_df\n",
        "    )\n",
        "    plt.xticks(rotation = 'vertical')\n",
        "    plt.ylabel('Price')\n",
        "    plt.show()"
      ],
      "execution_count": null,
      "outputs": []
    },
    {
      "cell_type": "code",
      "metadata": {
        "colab": {
          "base_uri": "https://localhost:8080/",
          "height": 1000
        },
        "id": "_9A0ffNrE3xP",
        "outputId": "c561c546-813c-4e9f-c514-ae6835c286a2"
      },
      "source": [
        "for var in cat_vars:\n",
        "    plot_cat_var(lp_df, var)"
      ],
      "execution_count": null,
      "outputs": [
        {
          "output_type": "stream",
          "name": "stdout",
          "text": [
            "Number of company:  19\n",
            "Laptop's company:  ['Apple' 'HP' 'Acer' 'Asus' 'Dell' 'Lenovo' 'Chuwi' 'MSI' 'Microsoft'\n",
            " 'Toshiba' 'Huawei' 'Xiaomi' 'Vero' 'Razer' 'Mediacom' 'Samsung' 'Google'\n",
            " 'Fujitsu' 'LG']\n"
          ]
        },
        {
          "output_type": "display_data",
          "data": {
            "image/png": "[encoded data removed]",
            "text/plain": [
              "<Figure size 1080x504 with 1 Axes>"
            ]
          },
          "metadata": {
            "needs_background": "light"
          }
        },
        {
          "output_type": "stream",
          "name": "stdout",
          "text": [
            "Number of typename:  6\n",
            "Laptop's typename:  ['Ultrabook' 'Notebook' 'Netbook' 'Gaming' '2 in 1 Convertible'\n",
            " 'Workstation']\n"
          ]
        },
        {
          "output_type": "display_data",
          "data": {
            "image/png": "[encoded data removed]",
            "text/plain": [
              "<Figure size 1080x504 with 1 Axes>"
            ]
          },
          "metadata": {
            "needs_background": "light"
          }
        },
        {
          "output_type": "stream",
          "name": "stdout",
          "text": [
            "Number of memory:  39\n",
            "Laptop's memory:  ['128GB SSD' '128GB Flash Storage' '256GB SSD' '512GB SSD' '500GB HDD'\n",
            " '256GB Flash Storage' '1TB HDD' '32GB Flash Storage'\n",
            " '128GB SSD +  1TB HDD' '256GB SSD +  256GB SSD' '64GB Flash Storage'\n",
            " '256GB SSD +  1TB HDD' '256GB SSD +  2TB HDD' '32GB SSD' '2TB HDD'\n",
            " '64GB SSD' '1.0TB Hybrid' '512GB SSD +  1TB HDD' '1TB SSD'\n",
            " '256GB SSD +  500GB HDD' '128GB SSD +  2TB HDD' '512GB SSD +  512GB SSD'\n",
            " '16GB SSD' '16GB Flash Storage' '512GB SSD +  256GB SSD'\n",
            " '512GB SSD +  2TB HDD' '64GB Flash Storage +  1TB HDD' '180GB SSD'\n",
            " '1TB HDD +  1TB HDD' '32GB HDD' '1TB SSD +  1TB HDD'\n",
            " '512GB Flash Storage' '128GB HDD' '240GB SSD' '8GB SSD' '508GB Hybrid'\n",
            " '1.0TB HDD' '512GB SSD +  1.0TB Hybrid' '256GB SSD +  1.0TB Hybrid']\n"
          ]
        },
        {
          "output_type": "display_data",
          "data": {
            "image/png": "[encoded data removed]",
            "text/plain": [
              "<Figure size 1080x504 with 1 Axes>"
            ]
          },
          "metadata": {
            "needs_background": "light"
          }
        },
        {
          "output_type": "stream",
          "name": "stdout",
          "text": [
            "Number of ram:  9\n",
            "Laptop's ram:  ['8GB' '16GB' '4GB' '2GB' '12GB' '6GB' '32GB' '24GB' '64GB']\n"
          ]
        },
        {
          "output_type": "display_data",
          "data": {
            "image/png": "[encoded data removed]",
            "text/plain": [
              "<Figure size 1080x504 with 1 Axes>"
            ]
          },
          "metadata": {
            "needs_background": "light"
          }
        },
        {
          "output_type": "stream",
          "name": "stdout",
          "text": [
            "Number of screenresolution:  40\n",
            "Laptop's screenresolution:  ['IPS Panel Retina Display 2560x1600' '1440x900' 'Full HD 1920x1080'\n",
            " 'IPS Panel Retina Display 2880x1800' '1366x768'\n",
            " 'IPS Panel Full HD 1920x1080' 'IPS Panel Retina Display 2304x1440'\n",
            " 'IPS Panel Full HD / Touchscreen 1920x1080'\n",
            " 'Full HD / Touchscreen 1920x1080' 'Touchscreen / Quad HD+ 3200x1800'\n",
            " 'IPS Panel Touchscreen 1920x1200' 'Touchscreen 2256x1504'\n",
            " 'Quad HD+ / Touchscreen 3200x1800' 'IPS Panel 1366x768'\n",
            " 'IPS Panel 4K Ultra HD / Touchscreen 3840x2160'\n",
            " 'IPS Panel Full HD 2160x1440' '4K Ultra HD / Touchscreen 3840x2160'\n",
            " 'Touchscreen 2560x1440' '1600x900' 'IPS Panel 4K Ultra HD 3840x2160'\n",
            " '4K Ultra HD 3840x2160' 'Touchscreen 1366x768'\n",
            " 'IPS Panel Full HD 1366x768' 'IPS Panel 2560x1440'\n",
            " 'IPS Panel Full HD 2560x1440' 'IPS Panel Retina Display 2736x1824'\n",
            " 'Touchscreen 2400x1600' '2560x1440' 'IPS Panel Quad HD+ 2560x1440'\n",
            " 'IPS Panel Quad HD+ 3200x1800'\n",
            " 'IPS Panel Quad HD+ / Touchscreen 3200x1800'\n",
            " 'IPS Panel Touchscreen 1366x768' '1920x1080'\n",
            " 'IPS Panel Full HD 1920x1200'\n",
            " 'IPS Panel Touchscreen / 4K Ultra HD 3840x2160'\n",
            " 'IPS Panel Touchscreen 2560x1440' 'Touchscreen / Full HD 1920x1080'\n",
            " 'Quad HD+ 3200x1800' 'Touchscreen / 4K Ultra HD 3840x2160'\n",
            " 'IPS Panel Touchscreen 2400x1600']\n"
          ]
        },
        {
          "output_type": "display_data",
          "data": {
            "image/png": "[encoded data removed]",
            "text/plain": [
              "<Figure size 1080x504 with 1 Axes>"
            ]
          },
          "metadata": {
            "needs_background": "light"
          }
        },
        {
          "output_type": "stream",
          "name": "stdout",
          "text": [
            "Number of opsys:  9\n",
            "Laptop's opsys:  ['macOS' 'No OS' 'Windows 10' 'Mac OS X' 'Linux' 'Android' 'Windows 10 S'\n",
            " 'Chrome OS' 'Windows 7']\n"
          ]
        },
        {
          "output_type": "display_data",
          "data": {
            "image/png": "[encoded data removed]",
            "text/plain": [
              "<Figure size 1080x504 with 1 Axes>"
            ]
          },
          "metadata": {
            "needs_background": "light"
          }
        }
      ]
    },
    {
      "cell_type": "markdown",
      "metadata": {
        "id": "WB8C86pVDeI8"
      },
      "source": [
        "**Modifying Screen Resolution Feature**"
      ]
    },
    {
      "cell_type": "code",
      "metadata": {
        "colab": {
          "base_uri": "https://localhost:8080/",
          "height": 204
        },
        "id": "Yk2BjglIAsY2",
        "outputId": "bc961191-4f2b-43ec-df23-3a9cd9dd84c8"
      },
      "source": [
        "lp_df.head()"
      ],
      "execution_count": null,
      "outputs": [
        {
          "output_type": "execute_result",
          "data": {
            "text/html": [
              "<div>\n",
              "<style scoped>\n",
              "    .dataframe tbody tr th:only-of-type {\n",
              "        vertical-align: middle;\n",
              "    }\n",
              "\n",
              "    .dataframe tbody tr th {\n",
              "        vertical-align: top;\n",
              "    }\n",
              "\n",
              "    .dataframe thead th {\n",
              "        text-align: right;\n",
              "    }\n",
              "</style>\n",
              "<table border=\"1\" class=\"dataframe\">\n",
              "  <thead>\n",
              "    <tr style=\"text-align: right;\">\n",
              "      <th></th>\n",
              "      <th>company</th>\n",
              "      <th>product</th>\n",
              "      <th>typename</th>\n",
              "      <th>inches</th>\n",
              "      <th>screenresolution</th>\n",
              "      <th>cpu</th>\n",
              "      <th>ram</th>\n",
              "      <th>memory</th>\n",
              "      <th>gpu</th>\n",
              "      <th>opsys</th>\n",
              "      <th>weight</th>\n",
              "      <th>price</th>\n",
              "    </tr>\n",
              "  </thead>\n",
              "  <tbody>\n",
              "    <tr>\n",
              "      <th>0</th>\n",
              "      <td>Apple</td>\n",
              "      <td>MacBook Pro</td>\n",
              "      <td>Ultrabook</td>\n",
              "      <td>13.3</td>\n",
              "      <td>IPS Panel Retina Display 2560x1600</td>\n",
              "      <td>Intel Core i5 2.3GHz</td>\n",
              "      <td>8GB</td>\n",
              "      <td>128GB SSD</td>\n",
              "      <td>Intel Iris Plus Graphics 640</td>\n",
              "      <td>macOS</td>\n",
              "      <td>1.37kg</td>\n",
              "      <td>76549.89</td>\n",
              "    </tr>\n",
              "    <tr>\n",
              "      <th>1</th>\n",
              "      <td>Apple</td>\n",
              "      <td>Macbook Air</td>\n",
              "      <td>Ultrabook</td>\n",
              "      <td>13.3</td>\n",
              "      <td>1440x900</td>\n",
              "      <td>Intel Core i5 1.8GHz</td>\n",
              "      <td>8GB</td>\n",
              "      <td>128GB Flash Storage</td>\n",
              "      <td>Intel HD Graphics 6000</td>\n",
              "      <td>macOS</td>\n",
              "      <td>1.34kg</td>\n",
              "      <td>51365.43</td>\n",
              "    </tr>\n",
              "    <tr>\n",
              "      <th>2</th>\n",
              "      <td>HP</td>\n",
              "      <td>250 G6</td>\n",
              "      <td>Notebook</td>\n",
              "      <td>15.6</td>\n",
              "      <td>Full HD 1920x1080</td>\n",
              "      <td>Intel Core i5 7200U 2.5GHz</td>\n",
              "      <td>8GB</td>\n",
              "      <td>256GB SSD</td>\n",
              "      <td>Intel HD Graphics 620</td>\n",
              "      <td>No OS</td>\n",
              "      <td>1.86kg</td>\n",
              "      <td>32855.50</td>\n",
              "    </tr>\n",
              "    <tr>\n",
              "      <th>3</th>\n",
              "      <td>Apple</td>\n",
              "      <td>MacBook Pro</td>\n",
              "      <td>Ultrabook</td>\n",
              "      <td>15.4</td>\n",
              "      <td>IPS Panel Retina Display 2880x1800</td>\n",
              "      <td>Intel Core i7 2.7GHz</td>\n",
              "      <td>16GB</td>\n",
              "      <td>512GB SSD</td>\n",
              "      <td>AMD Radeon Pro 455</td>\n",
              "      <td>macOS</td>\n",
              "      <td>1.83kg</td>\n",
              "      <td>144989.89</td>\n",
              "    </tr>\n",
              "    <tr>\n",
              "      <th>4</th>\n",
              "      <td>Apple</td>\n",
              "      <td>MacBook Pro</td>\n",
              "      <td>Ultrabook</td>\n",
              "      <td>13.3</td>\n",
              "      <td>IPS Panel Retina Display 2560x1600</td>\n",
              "      <td>Intel Core i5 3.1GHz</td>\n",
              "      <td>8GB</td>\n",
              "      <td>256GB SSD</td>\n",
              "      <td>Intel Iris Plus Graphics 650</td>\n",
              "      <td>macOS</td>\n",
              "      <td>1.37kg</td>\n",
              "      <td>103057.70</td>\n",
              "    </tr>\n",
              "  </tbody>\n",
              "</table>\n",
              "</div>"
            ],
            "text/plain": [
              "  company      product   typename  ...  opsys  weight      price\n",
              "0   Apple  MacBook Pro  Ultrabook  ...  macOS  1.37kg   76549.89\n",
              "1   Apple  Macbook Air  Ultrabook  ...  macOS  1.34kg   51365.43\n",
              "2      HP       250 G6   Notebook  ...  No OS  1.86kg   32855.50\n",
              "3   Apple  MacBook Pro  Ultrabook  ...  macOS  1.83kg  144989.89\n",
              "4   Apple  MacBook Pro  Ultrabook  ...  macOS  1.37kg  103057.70\n",
              "\n",
              "[5 rows x 12 columns]"
            ]
          },
          "metadata": {},
          "execution_count": 402
        }
      ]
    },
    {
      "cell_type": "code",
      "metadata": {
        "id": "QEBXh80K-_0s"
      },
      "source": [
        "lp_df['resolution'] = lp_df['screenresolution'].str.extract(r'(\\d+x\\d+)')\n",
        "lp_df = lp_df.drop('screenresolution',  axis = 1)"
      ],
      "execution_count": null,
      "outputs": []
    },
    {
      "cell_type": "markdown",
      "metadata": {
        "id": "M5cRJjztDkMn"
      },
      "source": [
        "**Modifying CPU Feature**"
      ]
    },
    {
      "cell_type": "code",
      "metadata": {
        "id": "6-VB86jQBl4E"
      },
      "source": [
        "lp_df['cpu_speed'] = lp_df['cpu'].str.extract(r'(\\d+(?:\\.\\d+)?GHz)') \n",
        "lp_df['cpu_speed'] = lp_df['cpu_speed'].str.replace('GHz', '')\n",
        "lp_df['cpu_speed'] = lp_df['cpu_speed'].astype(float)\n",
        "lp_df.rename(columns={'cpu_speed': 'cpu_speed(ghz)'}, inplace = True)\n",
        "lp_df = lp_df.drop('cpu', axis = 1)"
      ],
      "execution_count": null,
      "outputs": []
    },
    {
      "cell_type": "markdown",
      "metadata": {
        "id": "X1ENWMocDz9U"
      },
      "source": [
        "**Modifying RAM Feature**"
      ]
    },
    {
      "cell_type": "code",
      "metadata": {
        "id": "kh31JeUcCHX0"
      },
      "source": [
        "lp_df['ram'] = lp_df['ram'].str.replace('GB', '')\n",
        "lp_df.rename(columns={'ram': 'ram(GB)'}, inplace = True)\n",
        "lp_df['ram(GB)'] = lp_df['ram(GB)'].astype(int)"
      ],
      "execution_count": null,
      "outputs": []
    },
    {
      "cell_type": "markdown",
      "metadata": {
        "id": "NcrHqmjKFoqS"
      },
      "source": [
        "**Modifying Weight Feature**"
      ]
    },
    {
      "cell_type": "code",
      "metadata": {
        "id": "s1zbYCOZEfKt"
      },
      "source": [
        "lp_df['weight'] = lp_df['weight'].str.replace('kg', '').astype(float)\n",
        "lp_df.rename(columns={'weight': 'weight(kg)'}, inplace = True)"
      ],
      "execution_count": null,
      "outputs": []
    },
    {
      "cell_type": "code",
      "metadata": {
        "colab": {
          "base_uri": "https://localhost:8080/",
          "height": 204
        },
        "id": "nNIr5RvCGmRv",
        "outputId": "fde8333c-7d04-43ff-8b93-f3f8d335b392"
      },
      "source": [
        "lp_df.head()"
      ],
      "execution_count": null,
      "outputs": [
        {
          "output_type": "execute_result",
          "data": {
            "text/html": [
              "<div>\n",
              "<style scoped>\n",
              "    .dataframe tbody tr th:only-of-type {\n",
              "        vertical-align: middle;\n",
              "    }\n",
              "\n",
              "    .dataframe tbody tr th {\n",
              "        vertical-align: top;\n",
              "    }\n",
              "\n",
              "    .dataframe thead th {\n",
              "        text-align: right;\n",
              "    }\n",
              "</style>\n",
              "<table border=\"1\" class=\"dataframe\">\n",
              "  <thead>\n",
              "    <tr style=\"text-align: right;\">\n",
              "      <th></th>\n",
              "      <th>company</th>\n",
              "      <th>product</th>\n",
              "      <th>typename</th>\n",
              "      <th>inches</th>\n",
              "      <th>ram(GB)</th>\n",
              "      <th>memory</th>\n",
              "      <th>gpu</th>\n",
              "      <th>opsys</th>\n",
              "      <th>weight(kg)</th>\n",
              "      <th>price</th>\n",
              "      <th>resolution</th>\n",
              "      <th>cpu_speed(ghz)</th>\n",
              "    </tr>\n",
              "  </thead>\n",
              "  <tbody>\n",
              "    <tr>\n",
              "      <th>0</th>\n",
              "      <td>Apple</td>\n",
              "      <td>MacBook Pro</td>\n",
              "      <td>Ultrabook</td>\n",
              "      <td>13.3</td>\n",
              "      <td>8</td>\n",
              "      <td>128GB SSD</td>\n",
              "      <td>Intel Iris Plus Graphics 640</td>\n",
              "      <td>macOS</td>\n",
              "      <td>1.37</td>\n",
              "      <td>76549.89</td>\n",
              "      <td>2560x1600</td>\n",
              "      <td>2.3</td>\n",
              "    </tr>\n",
              "    <tr>\n",
              "      <th>1</th>\n",
              "      <td>Apple</td>\n",
              "      <td>Macbook Air</td>\n",
              "      <td>Ultrabook</td>\n",
              "      <td>13.3</td>\n",
              "      <td>8</td>\n",
              "      <td>128GB Flash Storage</td>\n",
              "      <td>Intel HD Graphics 6000</td>\n",
              "      <td>macOS</td>\n",
              "      <td>1.34</td>\n",
              "      <td>51365.43</td>\n",
              "      <td>1440x900</td>\n",
              "      <td>1.8</td>\n",
              "    </tr>\n",
              "    <tr>\n",
              "      <th>2</th>\n",
              "      <td>HP</td>\n",
              "      <td>250 G6</td>\n",
              "      <td>Notebook</td>\n",
              "      <td>15.6</td>\n",
              "      <td>8</td>\n",
              "      <td>256GB SSD</td>\n",
              "      <td>Intel HD Graphics 620</td>\n",
              "      <td>No OS</td>\n",
              "      <td>1.86</td>\n",
              "      <td>32855.50</td>\n",
              "      <td>1920x1080</td>\n",
              "      <td>2.5</td>\n",
              "    </tr>\n",
              "    <tr>\n",
              "      <th>3</th>\n",
              "      <td>Apple</td>\n",
              "      <td>MacBook Pro</td>\n",
              "      <td>Ultrabook</td>\n",
              "      <td>15.4</td>\n",
              "      <td>16</td>\n",
              "      <td>512GB SSD</td>\n",
              "      <td>AMD Radeon Pro 455</td>\n",
              "      <td>macOS</td>\n",
              "      <td>1.83</td>\n",
              "      <td>144989.89</td>\n",
              "      <td>2880x1800</td>\n",
              "      <td>2.7</td>\n",
              "    </tr>\n",
              "    <tr>\n",
              "      <th>4</th>\n",
              "      <td>Apple</td>\n",
              "      <td>MacBook Pro</td>\n",
              "      <td>Ultrabook</td>\n",
              "      <td>13.3</td>\n",
              "      <td>8</td>\n",
              "      <td>256GB SSD</td>\n",
              "      <td>Intel Iris Plus Graphics 650</td>\n",
              "      <td>macOS</td>\n",
              "      <td>1.37</td>\n",
              "      <td>103057.70</td>\n",
              "      <td>2560x1600</td>\n",
              "      <td>3.1</td>\n",
              "    </tr>\n",
              "  </tbody>\n",
              "</table>\n",
              "</div>"
            ],
            "text/plain": [
              "  company      product   typename  ...      price  resolution cpu_speed(ghz)\n",
              "0   Apple  MacBook Pro  Ultrabook  ...   76549.89   2560x1600            2.3\n",
              "1   Apple  Macbook Air  Ultrabook  ...   51365.43    1440x900            1.8\n",
              "2      HP       250 G6   Notebook  ...   32855.50   1920x1080            2.5\n",
              "3   Apple  MacBook Pro  Ultrabook  ...  144989.89   2880x1800            2.7\n",
              "4   Apple  MacBook Pro  Ultrabook  ...  103057.70   2560x1600            3.1\n",
              "\n",
              "[5 rows x 12 columns]"
            ]
          },
          "metadata": {},
          "execution_count": 407
        }
      ]
    },
    {
      "cell_type": "code",
      "metadata": {
        "colab": {
          "base_uri": "https://localhost:8080/"
        },
        "id": "CAA_ggZpHdqQ",
        "outputId": "6fb07f25-204b-4e75-f67f-97f3cfdbf4c8"
      },
      "source": [
        "lp_df.corr()['price']"
      ],
      "execution_count": null,
      "outputs": [
        {
          "output_type": "execute_result",
          "data": {
            "text/plain": [
              "inches            0.068197\n",
              "ram(GB)           0.743007\n",
              "weight(kg)        0.210370\n",
              "price             1.000000\n",
              "cpu_speed(ghz)    0.430293\n",
              "Name: price, dtype: float64"
            ]
          },
          "metadata": {},
          "execution_count": 408
        }
      ]
    },
    {
      "cell_type": "code",
      "metadata": {
        "colab": {
          "base_uri": "https://localhost:8080/",
          "height": 287
        },
        "id": "UBCdjmgdH5T8",
        "outputId": "f2983619-a2f1-4e83-8096-219a5f60ee20"
      },
      "source": [
        "sns.heatmap(lp_df.corr(), annot=True)"
      ],
      "execution_count": null,
      "outputs": [
        {
          "output_type": "execute_result",
          "data": {
            "text/plain": [
              "<matplotlib.axes._subplots.AxesSubplot at 0x7f2cdbbd8090>"
            ]
          },
          "metadata": {},
          "execution_count": 409
        },
        {
          "output_type": "display_data",
          "data": {
            "image/png": "[encoded data removed]",
            "text/plain": [
              "<Figure size 432x288 with 2 Axes>"
            ]
          },
          "metadata": {
            "needs_background": "light"
          }
        }
      ]
    },
    {
      "cell_type": "code",
      "metadata": {
        "colab": {
          "base_uri": "https://localhost:8080/",
          "height": 296
        },
        "id": "1AML5oW7I7bE",
        "outputId": "559c7afd-3f86-46b4-8d23-23218e3df368"
      },
      "source": [
        "sns.histplot(np.log(lp_df['price']))"
      ],
      "execution_count": null,
      "outputs": [
        {
          "output_type": "execute_result",
          "data": {
            "text/plain": [
              "<matplotlib.axes._subplots.AxesSubplot at 0x7f2cdc039e10>"
            ]
          },
          "metadata": {},
          "execution_count": 410
        },
        {
          "output_type": "display_data",
          "data": {
            "image/png": "[encoded data removed]",
            "text/plain": [
              "<Figure size 432x288 with 1 Axes>"
            ]
          },
          "metadata": {
            "needs_background": "light"
          }
        }
      ]
    },
    {
      "cell_type": "code",
      "metadata": {
        "colab": {
          "base_uri": "https://localhost:8080/",
          "height": 204
        },
        "id": "yrlEjuLsN8Or",
        "outputId": "a7b30280-7e6a-4934-9e2d-41fd34ed0ffd"
      },
      "source": [
        "lp_df.head()"
      ],
      "execution_count": null,
      "outputs": [
        {
          "output_type": "execute_result",
          "data": {
            "text/html": [
              "<div>\n",
              "<style scoped>\n",
              "    .dataframe tbody tr th:only-of-type {\n",
              "        vertical-align: middle;\n",
              "    }\n",
              "\n",
              "    .dataframe tbody tr th {\n",
              "        vertical-align: top;\n",
              "    }\n",
              "\n",
              "    .dataframe thead th {\n",
              "        text-align: right;\n",
              "    }\n",
              "</style>\n",
              "<table border=\"1\" class=\"dataframe\">\n",
              "  <thead>\n",
              "    <tr style=\"text-align: right;\">\n",
              "      <th></th>\n",
              "      <th>company</th>\n",
              "      <th>product</th>\n",
              "      <th>typename</th>\n",
              "      <th>inches</th>\n",
              "      <th>ram(GB)</th>\n",
              "      <th>memory</th>\n",
              "      <th>gpu</th>\n",
              "      <th>opsys</th>\n",
              "      <th>weight(kg)</th>\n",
              "      <th>price</th>\n",
              "      <th>resolution</th>\n",
              "      <th>cpu_speed(ghz)</th>\n",
              "    </tr>\n",
              "  </thead>\n",
              "  <tbody>\n",
              "    <tr>\n",
              "      <th>0</th>\n",
              "      <td>Apple</td>\n",
              "      <td>MacBook Pro</td>\n",
              "      <td>Ultrabook</td>\n",
              "      <td>13.3</td>\n",
              "      <td>8</td>\n",
              "      <td>128GB SSD</td>\n",
              "      <td>Intel Iris Plus Graphics 640</td>\n",
              "      <td>macOS</td>\n",
              "      <td>1.37</td>\n",
              "      <td>76549.89</td>\n",
              "      <td>2560x1600</td>\n",
              "      <td>2.3</td>\n",
              "    </tr>\n",
              "    <tr>\n",
              "      <th>1</th>\n",
              "      <td>Apple</td>\n",
              "      <td>Macbook Air</td>\n",
              "      <td>Ultrabook</td>\n",
              "      <td>13.3</td>\n",
              "      <td>8</td>\n",
              "      <td>128GB Flash Storage</td>\n",
              "      <td>Intel HD Graphics 6000</td>\n",
              "      <td>macOS</td>\n",
              "      <td>1.34</td>\n",
              "      <td>51365.43</td>\n",
              "      <td>1440x900</td>\n",
              "      <td>1.8</td>\n",
              "    </tr>\n",
              "    <tr>\n",
              "      <th>2</th>\n",
              "      <td>HP</td>\n",
              "      <td>250 G6</td>\n",
              "      <td>Notebook</td>\n",
              "      <td>15.6</td>\n",
              "      <td>8</td>\n",
              "      <td>256GB SSD</td>\n",
              "      <td>Intel HD Graphics 620</td>\n",
              "      <td>No OS</td>\n",
              "      <td>1.86</td>\n",
              "      <td>32855.50</td>\n",
              "      <td>1920x1080</td>\n",
              "      <td>2.5</td>\n",
              "    </tr>\n",
              "    <tr>\n",
              "      <th>3</th>\n",
              "      <td>Apple</td>\n",
              "      <td>MacBook Pro</td>\n",
              "      <td>Ultrabook</td>\n",
              "      <td>15.4</td>\n",
              "      <td>16</td>\n",
              "      <td>512GB SSD</td>\n",
              "      <td>AMD Radeon Pro 455</td>\n",
              "      <td>macOS</td>\n",
              "      <td>1.83</td>\n",
              "      <td>144989.89</td>\n",
              "      <td>2880x1800</td>\n",
              "      <td>2.7</td>\n",
              "    </tr>\n",
              "    <tr>\n",
              "      <th>4</th>\n",
              "      <td>Apple</td>\n",
              "      <td>MacBook Pro</td>\n",
              "      <td>Ultrabook</td>\n",
              "      <td>13.3</td>\n",
              "      <td>8</td>\n",
              "      <td>256GB SSD</td>\n",
              "      <td>Intel Iris Plus Graphics 650</td>\n",
              "      <td>macOS</td>\n",
              "      <td>1.37</td>\n",
              "      <td>103057.70</td>\n",
              "      <td>2560x1600</td>\n",
              "      <td>3.1</td>\n",
              "    </tr>\n",
              "  </tbody>\n",
              "</table>\n",
              "</div>"
            ],
            "text/plain": [
              "  company      product   typename  ...      price  resolution cpu_speed(ghz)\n",
              "0   Apple  MacBook Pro  Ultrabook  ...   76549.89   2560x1600            2.3\n",
              "1   Apple  Macbook Air  Ultrabook  ...   51365.43    1440x900            1.8\n",
              "2      HP       250 G6   Notebook  ...   32855.50   1920x1080            2.5\n",
              "3   Apple  MacBook Pro  Ultrabook  ...  144989.89   2880x1800            2.7\n",
              "4   Apple  MacBook Pro  Ultrabook  ...  103057.70   2560x1600            3.1\n",
              "\n",
              "[5 rows x 12 columns]"
            ]
          },
          "metadata": {},
          "execution_count": 411
        }
      ]
    },
    {
      "cell_type": "code",
      "metadata": {
        "colab": {
          "base_uri": "https://localhost:8080/",
          "height": 204
        },
        "id": "eBqWMSmgMkuV",
        "outputId": "3b1e2338-0187-49e8-d77a-8afda4efd7de"
      },
      "source": [
        "x = lp_df.drop(columns=['price', 'company', 'product', 'typename', 'memory', 'gpu', 'opsys', 'resolution'], axis=1)\n",
        "y = np.log(lp_df['price'])\n",
        "x.head()"
      ],
      "execution_count": null,
      "outputs": [
        {
          "output_type": "execute_result",
          "data": {
            "text/html": [
              "<div>\n",
              "<style scoped>\n",
              "    .dataframe tbody tr th:only-of-type {\n",
              "        vertical-align: middle;\n",
              "    }\n",
              "\n",
              "    .dataframe tbody tr th {\n",
              "        vertical-align: top;\n",
              "    }\n",
              "\n",
              "    .dataframe thead th {\n",
              "        text-align: right;\n",
              "    }\n",
              "</style>\n",
              "<table border=\"1\" class=\"dataframe\">\n",
              "  <thead>\n",
              "    <tr style=\"text-align: right;\">\n",
              "      <th></th>\n",
              "      <th>inches</th>\n",
              "      <th>ram(GB)</th>\n",
              "      <th>weight(kg)</th>\n",
              "      <th>cpu_speed(ghz)</th>\n",
              "    </tr>\n",
              "  </thead>\n",
              "  <tbody>\n",
              "    <tr>\n",
              "      <th>0</th>\n",
              "      <td>13.3</td>\n",
              "      <td>8</td>\n",
              "      <td>1.37</td>\n",
              "      <td>2.3</td>\n",
              "    </tr>\n",
              "    <tr>\n",
              "      <th>1</th>\n",
              "      <td>13.3</td>\n",
              "      <td>8</td>\n",
              "      <td>1.34</td>\n",
              "      <td>1.8</td>\n",
              "    </tr>\n",
              "    <tr>\n",
              "      <th>2</th>\n",
              "      <td>15.6</td>\n",
              "      <td>8</td>\n",
              "      <td>1.86</td>\n",
              "      <td>2.5</td>\n",
              "    </tr>\n",
              "    <tr>\n",
              "      <th>3</th>\n",
              "      <td>15.4</td>\n",
              "      <td>16</td>\n",
              "      <td>1.83</td>\n",
              "      <td>2.7</td>\n",
              "    </tr>\n",
              "    <tr>\n",
              "      <th>4</th>\n",
              "      <td>13.3</td>\n",
              "      <td>8</td>\n",
              "      <td>1.37</td>\n",
              "      <td>3.1</td>\n",
              "    </tr>\n",
              "  </tbody>\n",
              "</table>\n",
              "</div>"
            ],
            "text/plain": [
              "   inches  ram(GB)  weight(kg)  cpu_speed(ghz)\n",
              "0    13.3        8        1.37             2.3\n",
              "1    13.3        8        1.34             1.8\n",
              "2    15.6        8        1.86             2.5\n",
              "3    15.4       16        1.83             2.7\n",
              "4    13.3        8        1.37             3.1"
            ]
          },
          "metadata": {},
          "execution_count": 412
        }
      ]
    },
    {
      "cell_type": "code",
      "metadata": {
        "id": "wqKEfYLjMxfO"
      },
      "source": [
        "# importing train_test_split from sklearn\n",
        "from sklearn.model_selection import train_test_split\n",
        "# splitting the data\n",
        "x_train, x_test, y_train, y_test = train_test_split(x, y, test_size = 0.5, random_state = 42)"
      ],
      "execution_count": null,
      "outputs": []
    },
    {
      "cell_type": "markdown",
      "metadata": {
        "id": "7kBseity9OjV"
      },
      "source": [
        "#**Problem no. 2**"
      ]
    },
    {
      "cell_type": "markdown",
      "metadata": {
        "id": "_YBl7FQl9q1c"
      },
      "source": [
        "**Random Forest**\n",
        "\n",
        "The random forest classifier consists of large number of individual decision trees that operate as an ensemble. For each individual tree in the random forest, it spits out the class prediction and the class with the most votes to become the mode's prediction. The fundamental concept behind random forest is a simple but powerful one is the wisdom of crowds. The reason is that the large number of relatively uncorrelated models operating as a committee will outperform any of the individual constituent models. In general, the random forest modelling is a classification algorithm consisting of many decision trees. It uses bagging and feature randomness when creating each individual tree to try to create an uncorrelated forest of trees that the prediction by the committee is more accurate than any individual tree.\n",
        "\n",
        "\\\n",
        "\n",
        "**Linear Regression**\n",
        "\n",
        "The linear regression is an analysis that is used to predict value of a variable based on the value of another variable, it estimates the relationship between one independent variable and one dependent variable using a straight light and both variables should be quantitative. For the representation of Linear Regression, it is a linear equation that combines a specific set of input values (x) and the solution to which is the predicted output for the set of input values (y). both input values (x) should have a numeric value. \n",
        "\n",
        "\\\n",
        "\n",
        "**XGBOOST**\n",
        "\n",
        "The XGBoost is an algorithm that recently been dominating applied in machine learning, XGBoost is an implementation gradient boosted decision trees designed for speed and performance. It is best use in predicting problems involving unstructured data such as images, text etc. In addition One of the most differences between the XGBoost and the random forest is that the XGBoost always gives more importance to functional space when reducing the cost of a model while the Random forest tries to give more preferences to hyperparameters to optimize the model.\n",
        "\n",
        "\\\n",
        "\n",
        "[2] Towardsdatascience, “Understanding Random Forest.” Understanding Random Forest. How the Algorithm Works and Why it Is… | by Tony Yiu | Towards Data Science (accessed November 16, 2021).\n",
        "\n",
        "[3] Machine Learning Mastery, “Linear Regression for Machine Learning.” Linear Regression for Machine Learning (machinelearningmastery.com) (accessed November 16, 2021).\n",
        "\n",
        "[4] Machine Learning Mastery, “A Gentle Introduction to XGBoost for Applied Machine Learning.” A Gentle Introduction to XGBoost for Applied Machine Learning (machinelearningmastery.com) (accessed November 16, 2021).\n",
        "\n",
        "[5] Aman Gupta, “XGBoost versus Random Forest.” Geek Culture. XGBoost versus Random Forest. This article explores the superiority… | by Aman Gupta | Geek Culture | Medium (accessed November 16, 2021)."
      ]
    },
    {
      "cell_type": "markdown",
      "metadata": {
        "id": "ITpNcEfSZahB"
      },
      "source": [
        "**Modelling using Random Forest**"
      ]
    },
    {
      "cell_type": "code",
      "metadata": {
        "colab": {
          "base_uri": "https://localhost:8080/"
        },
        "id": "-bJERMkvVnI9",
        "outputId": "f06576cd-1a53-458f-d8dd-77f1e635f0db"
      },
      "source": [
        "rf = RandomForestRegressor(n_estimators=100, max_depth=100, max_features=4)\n",
        "rf.fit(x_train,y_train)"
      ],
      "execution_count": null,
      "outputs": [
        {
          "output_type": "execute_result",
          "data": {
            "text/plain": [
              "RandomForestRegressor(max_depth=100, max_features=4)"
            ]
          },
          "metadata": {},
          "execution_count": 414
        }
      ]
    },
    {
      "cell_type": "code",
      "metadata": {
        "id": "FRymY8kNZIvj",
        "colab": {
          "base_uri": "https://localhost:8080/",
          "height": 359
        },
        "outputId": "60ba6b7f-a890-426f-9cc1-bf0bacb0efc4"
      },
      "source": [
        "y_pred=rf.predict(x_test)\n",
        "lp_df1 = pd.DataFrame({'Real Values': y_test, 'Predicted values': y_pred})\n",
        "lp_df1.head(10)"
      ],
      "execution_count": null,
      "outputs": [
        {
          "output_type": "execute_result",
          "data": {
            "text/html": [
              "<div>\n",
              "<style scoped>\n",
              "    .dataframe tbody tr th:only-of-type {\n",
              "        vertical-align: middle;\n",
              "    }\n",
              "\n",
              "    .dataframe tbody tr th {\n",
              "        vertical-align: top;\n",
              "    }\n",
              "\n",
              "    .dataframe thead th {\n",
              "        text-align: right;\n",
              "    }\n",
              "</style>\n",
              "<table border=\"1\" class=\"dataframe\">\n",
              "  <thead>\n",
              "    <tr style=\"text-align: right;\">\n",
              "      <th></th>\n",
              "      <th>Real Values</th>\n",
              "      <th>Predicted values</th>\n",
              "    </tr>\n",
              "  </thead>\n",
              "  <tbody>\n",
              "    <tr>\n",
              "      <th>479</th>\n",
              "      <td>11.467280</td>\n",
              "      <td>11.407587</td>\n",
              "    </tr>\n",
              "    <tr>\n",
              "      <th>1022</th>\n",
              "      <td>11.092152</td>\n",
              "      <td>11.270302</td>\n",
              "    </tr>\n",
              "    <tr>\n",
              "      <th>298</th>\n",
              "      <td>10.258110</td>\n",
              "      <td>10.331038</td>\n",
              "    </tr>\n",
              "    <tr>\n",
              "      <th>1265</th>\n",
              "      <td>10.846787</td>\n",
              "      <td>11.329603</td>\n",
              "    </tr>\n",
              "    <tr>\n",
              "      <th>774</th>\n",
              "      <td>11.171592</td>\n",
              "      <td>11.263331</td>\n",
              "    </tr>\n",
              "    <tr>\n",
              "      <th>115</th>\n",
              "      <td>11.289010</td>\n",
              "      <td>11.324323</td>\n",
              "    </tr>\n",
              "    <tr>\n",
              "      <th>582</th>\n",
              "      <td>10.623366</td>\n",
              "      <td>10.738523</td>\n",
              "    </tr>\n",
              "    <tr>\n",
              "      <th>527</th>\n",
              "      <td>10.174555</td>\n",
              "      <td>10.277731</td>\n",
              "    </tr>\n",
              "    <tr>\n",
              "      <th>380</th>\n",
              "      <td>11.128053</td>\n",
              "      <td>11.628250</td>\n",
              "    </tr>\n",
              "    <tr>\n",
              "      <th>101</th>\n",
              "      <td>9.900576</td>\n",
              "      <td>9.727950</td>\n",
              "    </tr>\n",
              "  </tbody>\n",
              "</table>\n",
              "</div>"
            ],
            "text/plain": [
              "      Real Values  Predicted values\n",
              "479     11.467280         11.407587\n",
              "1022    11.092152         11.270302\n",
              "298     10.258110         10.331038\n",
              "1265    10.846787         11.329603\n",
              "774     11.171592         11.263331\n",
              "115     11.289010         11.324323\n",
              "582     10.623366         10.738523\n",
              "527     10.174555         10.277731\n",
              "380     11.128053         11.628250\n",
              "101      9.900576          9.727950"
            ]
          },
          "metadata": {},
          "execution_count": 415
        }
      ]
    },
    {
      "cell_type": "code",
      "metadata": {
        "colab": {
          "base_uri": "https://localhost:8080/"
        },
        "id": "0q0WpYDeawjd",
        "outputId": "ff69f9ed-7823-44fb-f22f-d6155773318d"
      },
      "source": [
        "print(\"R2 using Random Forest: {:.2f} %\".format(np.round(r2_score(y_test, y_pred),4)*100))\n"
      ],
      "execution_count": null,
      "outputs": [
        {
          "output_type": "stream",
          "name": "stdout",
          "text": [
            "R2 using Random Forest: 79.09 %\n"
          ]
        }
      ]
    },
    {
      "cell_type": "code",
      "metadata": {
        "colab": {
          "base_uri": "https://localhost:8080/"
        },
        "id": "6zXl3EBTZJ04",
        "outputId": "1a6f0831-ccb8-403a-b478-8aaba9e4bb2f"
      },
      "source": [
        "rf.score(x_train,y_train)"
      ],
      "execution_count": null,
      "outputs": [
        {
          "output_type": "execute_result",
          "data": {
            "text/plain": [
              "0.947641617700223"
            ]
          },
          "metadata": {},
          "execution_count": 417
        }
      ]
    },
    {
      "cell_type": "code",
      "metadata": {
        "colab": {
          "base_uri": "https://localhost:8080/"
        },
        "id": "QB6usMnbZPLP",
        "outputId": "835b9847-0ad7-4257-d84d-706259d42924"
      },
      "source": [
        "rf.score(x_test,y_test)"
      ],
      "execution_count": null,
      "outputs": [
        {
          "output_type": "execute_result",
          "data": {
            "text/plain": [
              "0.7909398542882788"
            ]
          },
          "metadata": {},
          "execution_count": 418
        }
      ]
    },
    {
      "cell_type": "code",
      "metadata": {
        "colab": {
          "base_uri": "https://localhost:8080/"
        },
        "id": "9CPLlMByZUJ2",
        "outputId": "99e875ad-7186-4ba7-ab8d-5400482acb40"
      },
      "source": [
        "print(str((rf.score(x_train,y_train)-rf.score(x_test,y_test))*100)+'%')"
      ],
      "execution_count": null,
      "outputs": [
        {
          "output_type": "stream",
          "name": "stdout",
          "text": [
            "15.67017634119442%\n"
          ]
        }
      ]
    },
    {
      "cell_type": "markdown",
      "metadata": {
        "id": "boj26HrcdZwh"
      },
      "source": [
        "**Modelling using Multiple Linear Regression**"
      ]
    },
    {
      "cell_type": "code",
      "metadata": {
        "id": "gREEoGzeNH1I",
        "colab": {
          "base_uri": "https://localhost:8080/"
        },
        "outputId": "a9fcc129-139d-4a56-c793-5477be3e5dff"
      },
      "source": [
        "# importing module\n",
        "from sklearn.linear_model import LinearRegression\n",
        "# creating an object of LinearRegression class\n",
        "LR = LinearRegression()\n",
        "# fitting the training data\n",
        "LR.fit(x_train,y_train)"
      ],
      "execution_count": null,
      "outputs": [
        {
          "output_type": "execute_result",
          "data": {
            "text/plain": [
              "LinearRegression()"
            ]
          },
          "metadata": {},
          "execution_count": 420
        }
      ]
    },
    {
      "cell_type": "code",
      "metadata": {
        "id": "MbXUUbaDRbog",
        "colab": {
          "base_uri": "https://localhost:8080/"
        },
        "outputId": "b4fb1844-c2a0-453d-ab97-bd91f4fa631b"
      },
      "source": [
        "y_prediction =  LR.predict(x_test)\n",
        "y_prediction"
      ],
      "execution_count": null,
      "outputs": [
        {
          "output_type": "execute_result",
          "data": {
            "text/plain": [
              "array([11.10752486, 11.10478684, 10.6601872 , 10.90057273, 10.73410545,\n",
              "       10.76134682, 10.70061981, 10.69442957, 10.81281901, 10.16256894,\n",
              "       11.70160541, 10.89146618, 10.61266173, 10.95166228, 11.53220775,\n",
              "       10.68660198, 11.16908997, 10.96626507, 11.30108907, 11.89212941,\n",
              "       11.42179439, 10.53199998, 11.08151366, 10.47236885, 10.69299069,\n",
              "       10.73992005, 10.58172052, 10.54569009, 11.09702911, 10.93251632,\n",
              "       10.66475057, 11.07291748, 11.10250516, 10.88690281, 10.89055351,\n",
              "       10.61963069, 10.95622565, 10.68159775, 10.90969947, 10.16519981,\n",
              "       11.19540784, 10.88142677, 10.88142677, 11.37983158, 10.49551321,\n",
              "       11.0073152 , 11.71073215, 10.1761519 , 10.88233945, 11.17137166,\n",
              "       11.0423631 , 10.88872816, 10.55624023, 10.64823547, 10.87412538,\n",
              "       11.0144725 , 10.1761519 , 10.74491869, 10.70211743, 10.90057273,\n",
              "       10.88781549, 10.61963069, 10.36097457, 10.19540501, 10.21092047,\n",
              "       11.53996548, 10.78607563, 11.64224741, 10.95166228, 12.86148455,\n",
              "       12.85144514, 10.80662789, 10.60679886, 10.88872816, 10.21365849,\n",
              "       10.34500278, 10.9122763 , 11.06705496, 10.7722454 , 11.11847695,\n",
              "       10.65320202, 10.37315158, 10.69030147, 10.88233945, 10.16113007,\n",
              "       11.53419032, 10.38039946, 11.5376636 , 10.87230003, 10.8768634 ,\n",
              "       10.76279662, 12.81493818, 10.87230003, 10.40142428, 11.02502229,\n",
              "       10.72356056, 11.02958566, 10.8485907 , 10.86773666, 11.02776031,\n",
              "       10.16256894, 10.88142677, 10.70355631, 11.12530181, 11.09611644,\n",
              "       10.95166228, 10.91882621, 10.52371605, 10.96763408, 10.35781353,\n",
              "       11.65051586, 11.02600483, 10.86499864, 11.51302141, 10.15519769,\n",
              "       11.55365558, 10.83432035, 11.07474283, 10.97993499, 10.55304587,\n",
              "       12.94039047, 11.03458518, 10.5448318 , 10.96535239, 10.78837441,\n",
              "        9.85270025, 11.14178398, 11.22857188, 11.51167258, 10.63651515,\n",
              "       11.17646682, 10.66475057, 10.86773666, 10.83888372, 10.50228875,\n",
              "       10.34272109, 11.65870974, 10.13374985, 11.16277671, 10.55213319,\n",
              "       10.34591545, 10.8287908 , 10.97445894, 10.73347694, 10.89511688,\n",
              "       11.24251984, 11.66009894, 10.19540501, 10.44579268, 10.40281436,\n",
              "       11.84063756, 10.53063097, 10.12916938, 11.52810071, 11.00594619,\n",
              "       11.70479977, 10.83888372, 10.73378273, 10.86773666, 10.34229808,\n",
              "       11.04053775, 10.53930137, 10.55025346, 10.75399192, 13.18869404,\n",
              "       10.95622565, 11.03232368, 10.52743661, 10.34219489, 10.38335218,\n",
              "       10.22766085, 11.88117732, 10.88142677, 11.12197262, 10.89694223,\n",
              "       10.02069162, 10.54298539, 10.52287324, 11.16224579, 11.11807465,\n",
              "       10.69442957, 10.73347694, 10.5297183 , 10.86499864, 10.45537575,\n",
              "       10.88142677, 10.95622565, 11.00275183, 11.01279125, 10.5448318 ,\n",
              "       11.02730398, 10.41067492, 11.56659024, 10.37999751, 10.68614564,\n",
              "       10.69628824, 10.18355647, 10.75039438, 10.89511688, 11.54133449,\n",
              "       10.40281436, 10.46860952, 10.88142677, 10.46176447, 10.52338397,\n",
              "       10.4854738 , 10.98449835, 11.90808101, 10.47180388, 10.35823655,\n",
              "       11.11810723, 11.67878856, 11.10529722, 10.44196457, 10.41980166,\n",
              "       10.97265378, 11.07877563, 10.96580873, 10.80206452, 10.34500278,\n",
              "       12.09100626, 10.96071916, 11.12720139, 10.68015887, 11.083339  ,\n",
              "       11.15833112, 10.55395854, 10.33587604, 11.02502229, 10.89827395,\n",
              "       11.69247867, 11.03232368, 10.88233945, 10.8978549 , 10.73410545,\n",
              "       11.00671477, 10.45263773, 10.46313348, 11.63000089, 10.52743661,\n",
              "       11.13017086, 11.49205009, 11.39808506, 11.65644824, 11.14726003,\n",
              "       10.34272109, 10.88142677, 10.35869289, 10.94566004, 10.44196457,\n",
              "       10.2063571 , 11.67331252, 10.97993499, 11.03141101, 10.18627827,\n",
              "       11.69886739, 11.506652  , 10.47761324, 11.54587767, 11.13722061,\n",
              "       10.97993499, 10.54751544, 10.01753455, 10.70716971, 11.59395027,\n",
              "       11.85581569, 11.06515975, 10.69453712, 10.67028409, 10.81971757,\n",
              "       11.53220775, 15.65689887, 10.76642056, 10.65820066, 11.07258015,\n",
              "       11.46284453, 10.45537575, 10.72539718, 10.64883625, 10.98906172,\n",
              "       11.79497002, 11.08613106, 11.01133218, 10.8768634 , 10.88233945,\n",
              "       10.70290149, 10.95622565, 10.96905747, 11.41723102, 10.53385865,\n",
              "       10.96926182, 10.63637071, 11.15376775, 11.64960319, 11.53363027,\n",
              "       10.36051823, 10.2640941 , 11.69704204, 10.96254451, 11.0095767 ,\n",
              "       11.17958572, 11.66509846, 10.89466054, 11.39352169, 10.45218139,\n",
              "       10.74811305, 10.58172052, 10.1565667 , 12.86055169, 10.89511688,\n",
              "       11.10255919, 11.32304763, 11.76127531, 10.55167686, 10.79914909,\n",
              "       10.84248091, 10.80890433, 11.70618897, 11.69247867, 11.58119302,\n",
              "       11.69247867, 11.39352169, 10.52743661, 11.04920815, 10.61129237,\n",
              "        9.98374852, 11.30793413, 10.89602955, 10.54846143, 10.60679886,\n",
              "       10.84344709, 10.9790425 , 11.82605497, 10.35412952, 10.8768634 ,\n",
              "       11.85535935, 11.19555839, 10.87230003, 11.65051586, 10.97217726,\n",
              "       10.36097457, 12.51486913, 10.52743661, 10.36051823, 12.86055169,\n",
              "       11.08242633, 10.87230003, 10.99362509, 10.19540501, 10.87366904,\n",
              "       11.23313   , 11.46558255, 10.34797389, 11.02958566, 10.53199998,\n",
              "       10.40281436, 10.69058039, 11.12197262, 10.55511285, 10.54556706,\n",
              "       10.46392313, 10.11813814, 11.54133449, 11.16224492, 10.63507157,\n",
              "       11.08613106, 10.62784475, 10.53199998, 10.55058677, 10.40553131,\n",
              "       10.54526707, 10.68614564, 10.53063097, 10.18929522, 11.71073215,\n",
              "       10.74577697, 10.90098344, 10.68537216, 11.46284453, 11.20922743,\n",
              "       10.88142677, 10.62419405, 10.95029327, 10.16386809, 10.80827583,\n",
              "       11.08330079, 11.09611644, 10.96535239, 10.89055351, 11.82466577,\n",
              "       12.86328971, 10.79293778, 10.8928352 , 10.54112672, 10.93251632,\n",
              "       11.05240251, 10.71994715, 10.51590516, 10.67487641, 11.11259861,\n",
              "       10.37674876, 11.6879153 , 11.67878856, 10.8978549 , 10.50228875,\n",
              "       10.54939517, 10.14971235, 10.8055378 , 10.60809801, 11.10752486,\n",
              "       10.02209792, 11.10524318, 10.95022341, 11.57158976, 10.97080825,\n",
              "       10.28571935, 10.90057273, 10.38696559, 11.68706103, 11.06191136,\n",
              "       10.74583136, 10.50372728, 10.17341388, 10.50190193, 11.74463592,\n",
              "       10.33819104, 10.905119  , 11.65644824, 10.18583816, 10.45218139,\n",
              "       10.53385865, 10.8287908 , 10.16113007, 10.72356056, 10.96945942,\n",
              "       11.50024397, 10.18627827, 11.00001381, 10.46176447, 11.56659024,\n",
              "       10.83946396, 10.19540501, 10.65006117, 10.72891357, 10.54372065,\n",
              "       10.89055351, 10.5448318 , 11.02588093, 11.15376775, 10.34956615,\n",
              "       10.36051823, 11.09657278, 10.35086529, 11.67422519, 11.53220775,\n",
              "       11.72446047, 11.15468043, 11.16772096, 11.68109044, 10.87230003,\n",
              "       10.66418708, 10.89237886, 10.5448318 , 10.8116305 , 10.63363269,\n",
              "       11.03232368, 10.96535239, 10.19540501, 11.08353224, 10.72571922,\n",
              "       10.49551321, 10.88781549, 11.12093168, 11.77679077, 11.32989269,\n",
              "       10.55100582, 10.53199998, 11.08242633, 10.84248091, 10.89694223,\n",
              "       11.49048075, 11.30291442, 11.53728096, 10.7302624 , 10.88142677,\n",
              "       10.54024737, 11.01726456, 11.01219082, 10.82975698, 10.67103213,\n",
              "       10.87230003, 10.5448318 , 10.53930137, 11.4072118 , 10.89511688,\n",
              "       11.31848426, 11.10986059, 11.34982742, 10.8768634 , 10.34956615,\n",
              "       11.67331252, 11.57115361, 10.98449835, 11.06242173, 10.89466054,\n",
              "       10.8287908 , 10.34043941, 10.55852191, 10.02069162, 10.89446294,\n",
              "       11.01361387, 10.36097457, 11.41699248, 10.62282504, 10.97265378,\n",
              "       10.88142677, 10.67387731, 10.00840781, 10.61364392, 10.61963069,\n",
              "       11.16772096, 10.90592488, 11.22856663, 10.37101398, 10.99401157,\n",
              "       11.04852036, 10.53614033, 10.01753455, 10.72315336, 10.61964947,\n",
              "       11.00275183, 11.16277671, 11.52450353, 10.8768634 , 10.81971757,\n",
              "       10.6258047 , 11.07793719, 11.52764438, 10.95250509, 11.67422519,\n",
              "       11.48331856, 11.35042785, 10.78881365, 10.59851493, 11.73989734,\n",
              "       10.60809801, 10.59904585, 10.49916391, 10.68799774, 10.88142677,\n",
              "       11.22856663, 10.29285154, 10.89055351, 10.71659248, 10.62450595,\n",
              "       10.55943459, 10.03969746, 10.49316167, 10.84248091, 10.62145603,\n",
              "       11.68335193, 10.40142428, 10.88142677, 10.93251632, 10.82240208,\n",
              "       10.97993499, 10.34500278, 10.34591545, 10.99362509, 10.96535239,\n",
              "       11.56702639, 10.64093408, 10.96078902, 10.46313348, 10.55100582,\n",
              "       10.68799774, 10.96535239, 11.64777784, 11.79497002, 10.34812727,\n",
              "       10.00840781, 11.13267743, 10.76010171, 11.31731872, 11.0423631 ,\n",
              "       10.95622565, 10.82975698, 11.12035634, 10.97993499, 11.5377373 ,\n",
              "       11.23313   , 10.88142677, 11.13995864, 10.93881499, 10.36964101,\n",
              "       11.79542635, 10.62784475, 10.72356056, 10.76271583, 10.69162168,\n",
              "       10.62158441, 10.59904114, 10.96626507, 10.19996838, 10.60771154,\n",
              "       11.57115361, 11.53677112, 10.92795295, 11.13995864, 10.53656335,\n",
              "       11.08320952, 10.3435639 , 10.36696134, 10.97445894, 11.09982117,\n",
              "       10.34272109, 10.34956615, 12.88517369, 10.54939517, 10.78376137,\n",
              "       10.16647837, 10.27322084, 10.22580218, 11.12530181, 10.62510673,\n",
              "       10.01753455, 10.69299069, 11.78215437, 10.75450176, 11.67878856,\n",
              "       11.81145219, 10.33587604, 10.96254451, 10.6258047 , 10.34363377,\n",
              "       10.34043941, 10.54751544, 10.89466054, 11.87433227, 11.09206344,\n",
              "       12.81582847, 10.34089574, 10.64179359, 10.34956615, 10.36964101,\n",
              "       10.832495  , 10.36051823, 11.67878856, 10.86089161, 13.09657455,\n",
              "       11.16680829, 11.11810723])"
            ]
          },
          "metadata": {},
          "execution_count": 421
        }
      ]
    },
    {
      "cell_type": "code",
      "metadata": {
        "id": "m3jk-_eDRfmO",
        "colab": {
          "base_uri": "https://localhost:8080/"
        },
        "outputId": "59955da8-5552-427e-cfff-e751d98fbf0e"
      },
      "source": [
        "from sklearn.metrics import r2_score\n",
        "from sklearn.metrics import mean_squared_error\n",
        "\n",
        "score=r2_score(y_test,y_prediction)\n",
        "print('r2 score is ',score)\n",
        "print('mean_sqrd_error is',mean_squared_error(y_test,y_prediction))\n",
        "print('root_mean_squared error of is',np.sqrt(mean_squared_error(y_test,y_prediction)))"
      ],
      "execution_count": null,
      "outputs": [
        {
          "output_type": "stream",
          "name": "stdout",
          "text": [
            "r2 score is  0.5567171231099346\n",
            "mean_sqrd_error is 0.1668503973177133\n",
            "root_mean_squared error of is 0.4084732516551277\n"
          ]
        }
      ]
    },
    {
      "cell_type": "markdown",
      "metadata": {
        "id": "wKwfZzMU3TLO"
      },
      "source": [
        "**Modelling using XGBoost**"
      ]
    },
    {
      "cell_type": "code",
      "metadata": {
        "colab": {
          "base_uri": "https://localhost:8080/"
        },
        "id": "XdYSup7m2scj",
        "outputId": "1fd69dfd-188c-46d4-8605-e6aa73bda624"
      },
      "source": [
        "from xgboost import XGBRegressor\n",
        "xgb = XGBRegressor(n_estimators=268, max_depth=40, eta=0.1, subsample=0.5, colsample_bytree=0.6)\n",
        "xgb.fit(x_train,y_train)"
      ],
      "execution_count": null,
      "outputs": [
        {
          "output_type": "stream",
          "name": "stdout",
          "text": [
            "[13:29:06] WARNING: /workspace/src/objective/regression_obj.cu:152: reg:linear is now deprecated in favor of reg:squarederror.\n"
          ]
        },
        {
          "output_type": "execute_result",
          "data": {
            "text/plain": [
              "XGBRegressor(colsample_bytree=0.6, eta=0.1, max_depth=40, n_estimators=268,\n",
              "             subsample=0.5)"
            ]
          },
          "metadata": {},
          "execution_count": 423
        }
      ]
    },
    {
      "cell_type": "code",
      "metadata": {
        "colab": {
          "base_uri": "https://localhost:8080/"
        },
        "id": "oX4NiVFH2uhF",
        "outputId": "c98c2d66-131f-4a8c-9b3f-5b44da743202"
      },
      "source": [
        "xgb.score(x_train,y_train)"
      ],
      "execution_count": null,
      "outputs": [
        {
          "output_type": "execute_result",
          "data": {
            "text/plain": [
              "0.9622778015269198"
            ]
          },
          "metadata": {},
          "execution_count": 424
        }
      ]
    },
    {
      "cell_type": "code",
      "metadata": {
        "colab": {
          "base_uri": "https://localhost:8080/"
        },
        "id": "2qI6NsQO2wep",
        "outputId": "dfec0f51-346a-4a5e-d07f-bbcbeb052044"
      },
      "source": [
        "xgb.score(x_test,y_test)"
      ],
      "execution_count": null,
      "outputs": [
        {
          "output_type": "execute_result",
          "data": {
            "text/plain": [
              "0.7771891427285043"
            ]
          },
          "metadata": {},
          "execution_count": 425
        }
      ]
    },
    {
      "cell_type": "code",
      "metadata": {
        "id": "jB7KEtCv7Vu6"
      },
      "source": [
        "y_pred_xgb = xgb.predict(x_test) "
      ],
      "execution_count": null,
      "outputs": []
    },
    {
      "cell_type": "code",
      "metadata": {
        "colab": {
          "base_uri": "https://localhost:8080/"
        },
        "id": "qgB0eNOK7ahT",
        "outputId": "182f44d9-7f25-4f02-d9f1-b2f49be52af6"
      },
      "source": [
        "mse_xgb = mean_squared_error(np.exp(y_test), np.exp(y_pred_xgb))\n",
        "print(\"RMSE with XGBoost : {:.2f}\".format(np.round(np.sqrt(mse_xgb),2)))\n",
        "print(\"R2 with XGBoost: {:.2f} % \".format(np.round(r2_score(y_test, y_pred_xgb),4)*100))"
      ],
      "execution_count": null,
      "outputs": [
        {
          "output_type": "stream",
          "name": "stdout",
          "text": [
            "RMSE with XGBoost : 22973.41\n",
            "R2 with XGBoost: 77.72 % \n"
          ]
        }
      ]
    },
    {
      "cell_type": "code",
      "metadata": {
        "colab": {
          "base_uri": "https://localhost:8080/",
          "height": 621
        },
        "id": "_s0ttzqG7Glr",
        "outputId": "3702f5a7-36ad-47d4-dbbe-0267fb48df2b"
      },
      "source": [
        "plt.figure(figsize = (10,10))\n",
        "plt.scatter(np.exp(y_test), np.exp(y_pred), alpha=0.5, color='red',label='RF, R2 {:.2f} %'.format(r2_score(y_test, y_pred)*100))\n",
        "plt.scatter(np.exp(y_test), np.exp(y_pred_xgb), alpha=0.5, color='blue',label='XGBoost, R2 {:.2f} %'.format(r2_score(y_test, y_pred_xgb)*100))\n",
        "plt.xlabel('Y Test')\n",
        "plt.ylabel('Predicted Y')\n",
        "plt.title('RF vs XGBoost price regression')\n",
        "plt.legend(loc='upper left', ncol=1, fontsize=13, fancybox=True, shadow=True, frameon=True)\n",
        "plt.show()"
      ],
      "execution_count": null,
      "outputs": [
        {
          "output_type": "display_data",
          "data": {
            "image/png": "[encoded data removed]",
            "text/plain": [
              "<Figure size 720x720 with 1 Axes>"
            ]
          },
          "metadata": {
            "needs_background": "light"
          }
        }
      ]
    },
    {
      "cell_type": "markdown",
      "metadata": {
        "id": "3j7dv9wT9Wyb"
      },
      "source": [
        "#**Problem no. 3**"
      ]
    },
    {
      "cell_type": "markdown",
      "metadata": {
        "id": "kDvG17Xa9eGc"
      },
      "source": [
        "**Machine Learning Meme**"
      ]
    },
    {
      "cell_type": "markdown",
      "metadata": {
        "id": "9p5Xc0sTD2UI"
      },
      "source": [
        "![5ud8xe.jpg](data:image/jpeg;base64,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)"
      ]
    },
    {
      "cell_type": "markdown",
      "metadata": {
        "id": "IJfl5xt2ENTF"
      },
      "source": [
        "The image shown above is the machine learning meme which shows the first guy in grey shirt that represents myself attempts to make a move to the girl which represents my attempt to learn machine learning. However, I am blocked by the guy that represents calculus, linear algebra, and numerical method in which these subjects are needed to be studied before attempting to learn machine learning since they are considered as the foundation of machine learning. "
      ]
    }
  ]
}